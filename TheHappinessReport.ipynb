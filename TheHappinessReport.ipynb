{
 "cells": [
  {
   "cell_type": "code",
   "execution_count": 1,
   "id": "ee5e563a",
   "metadata": {},
   "outputs": [
    {
     "data": {
      "text/html": [
       "        <script type=\"text/javascript\">\n",
       "        window.PlotlyConfig = {MathJaxConfig: 'local'};\n",
       "        if (window.MathJax) {MathJax.Hub.Config({SVG: {font: \"STIX-Web\"}});}\n",
       "        if (typeof require !== 'undefined') {\n",
       "        require.undef(\"plotly\");\n",
       "        requirejs.config({\n",
       "            paths: {\n",
       "                'plotly': ['https://cdn.plot.ly/plotly-2.9.0.min']\n",
       "            }\n",
       "        });\n",
       "        require(['plotly'], function(Plotly) {\n",
       "            window._Plotly = Plotly;\n",
       "        });\n",
       "        }\n",
       "        </script>\n",
       "        "
      ]
     },
     "metadata": {},
     "output_type": "display_data"
    }
   ],
   "source": [
    "# Simple choropleth map from Happiness index\n",
    "# Data imported from https://happiness-report.s3.amazonaws.com/2022/Appendix_1_StatiscalAppendix_Ch2.pdf\n",
    "# Data looks at an average factors score that determines the rank of the countries \n",
    "import numpy as numpy\n",
    "import pandas as pd\n",
    "import matplotlib.pyplot as plt\n",
    "import seaborn as sns\n",
    "import chart_studio.plotly as py\n",
    "import plotly.graph_objs as go \n",
    "from plotly.offline import download_plotlyjs, init_notebook_mode, plot, iplot\n",
    "init_notebook_mode(connected=True) \n",
    "import cufflinks as cp"
   ]
  },
  {
   "cell_type": "code",
   "execution_count": 2,
   "id": "1c484b55",
   "metadata": {},
   "outputs": [],
   "source": [
    "# Load the file \n",
    "happiness_report = pd.read_csv('The Happiness Project2.csv')"
   ]
  },
  {
   "cell_type": "code",
   "execution_count": 3,
   "id": "bb66f02a",
   "metadata": {},
   "outputs": [
    {
     "name": "stdout",
     "output_type": "stream",
     "text": [
      "<class 'pandas.core.frame.DataFrame'>\n",
      "RangeIndex: 147 entries, 0 to 146\n",
      "Data columns (total 12 columns):\n",
      " #   Column                                      Non-Null Count  Dtype  \n",
      "---  ------                                      --------------  -----  \n",
      " 0   RANK                                        147 non-null    int64  \n",
      " 1   Country                                     147 non-null    object \n",
      " 2   Happiness score                             146 non-null    float64\n",
      " 3   Whisker-high                                146 non-null    float64\n",
      " 4   Whisker-low                                 146 non-null    float64\n",
      " 5   Dystopia (1.83) + residual                  146 non-null    float64\n",
      " 6   Explained by: GDP per capita                146 non-null    float64\n",
      " 7   Explained by: Social support                146 non-null    float64\n",
      " 8   Explained by: Healthy life expectancy       146 non-null    float64\n",
      " 9   Explained by: Freedom to make life choices  146 non-null    float64\n",
      " 10  Explained by: Generosity                    146 non-null    float64\n",
      " 11  Explained by: Perceptions of corruption     146 non-null    float64\n",
      "dtypes: float64(10), int64(1), object(1)\n",
      "memory usage: 13.9+ KB\n"
     ]
    }
   ],
   "source": [
    "#\n",
    "happiness_report.info()"
   ]
  },
  {
   "cell_type": "code",
   "execution_count": 4,
   "id": "cfc6609e",
   "metadata": {},
   "outputs": [
    {
     "data": {
      "text/plain": [
       "Index(['RANK', 'Country', 'Happiness score', 'Whisker-high', 'Whisker-low',\n",
       "       'Dystopia (1.83) + residual', 'Explained by: GDP per capita',\n",
       "       'Explained by: Social support', 'Explained by: Healthy life expectancy',\n",
       "       'Explained by: Freedom to make life choices',\n",
       "       'Explained by: Generosity', 'Explained by: Perceptions of corruption'],\n",
       "      dtype='object')"
      ]
     },
     "execution_count": 4,
     "metadata": {},
     "output_type": "execute_result"
    }
   ],
   "source": [
    "# Data columns \n",
    "happiness_report.columns"
   ]
  },
  {
   "cell_type": "code",
   "execution_count": 5,
   "id": "84cc1618",
   "metadata": {},
   "outputs": [],
   "source": [
    "#Select only relevant columns\n",
    "cols = ['RANK', 'Country', 'Happiness score', 'Explained by: GDP per capita',\n",
    "       'Explained by: Social support', 'Explained by: Healthy life expectancy',\n",
    "       'Explained by: Freedom to make life choices',\n",
    "       'Explained by: Generosity', 'Explained by: Perceptions of corruption']"
   ]
  },
  {
   "cell_type": "code",
   "execution_count": 6,
   "id": "c6c999a0",
   "metadata": {},
   "outputs": [],
   "source": [
    "happiness_report = happiness_report[cols]"
   ]
  },
  {
   "cell_type": "code",
   "execution_count": 7,
   "id": "46987cec",
   "metadata": {},
   "outputs": [],
   "source": [
    "# Rename the columns names for relevancy\n",
    "happiness_report.rename({'Explained by: GDP per capita':'GDP per capita','Explained by: Social support':'Social Support', 'Explained by: Healthy life expectancy':'Healthy life expectancy',\n",
    "                       'Explained by: Freedom to make life choices':'Life Choice Freedom','Explained by: Generosity':'Generosity', 'Explained by: Perceptions of corruption':'Corruption Perception'}, axis=1,inplace=True)"
   ]
  },
  {
   "cell_type": "code",
   "execution_count": 8,
   "id": "a10f7d17",
   "metadata": {},
   "outputs": [
    {
     "data": {
      "text/plain": [
       "RANK                       0\n",
       "Country                    0\n",
       "Happiness score            1\n",
       "GDP per capita             1\n",
       "Social Support             1\n",
       "Healthy life expectancy    1\n",
       "Life Choice Freedom        1\n",
       "Generosity                 1\n",
       "Corruption Perception      1\n",
       "dtype: int64"
      ]
     },
     "execution_count": 8,
     "metadata": {},
     "output_type": "execute_result"
    }
   ],
   "source": [
    "# Check for any missing values in the columns\n",
    "happiness_report.isnull().sum()"
   ]
  },
  {
   "cell_type": "code",
   "execution_count": 9,
   "id": "7179f4e8",
   "metadata": {},
   "outputs": [],
   "source": [
    "# Dropping missing data due to lack of relevancy\n",
    "happiness_report.dropna(axis=0,inplace=True)\n"
   ]
  },
  {
   "cell_type": "code",
   "execution_count": 134,
   "id": "6812343d",
   "metadata": {},
   "outputs": [
    {
     "data": {
      "text/html": [
       "<div>\n",
       "<style scoped>\n",
       "    .dataframe tbody tr th:only-of-type {\n",
       "        vertical-align: middle;\n",
       "    }\n",
       "\n",
       "    .dataframe tbody tr th {\n",
       "        vertical-align: top;\n",
       "    }\n",
       "\n",
       "    .dataframe thead th {\n",
       "        text-align: right;\n",
       "    }\n",
       "</style>\n",
       "<table border=\"1\" class=\"dataframe\">\n",
       "  <thead>\n",
       "    <tr style=\"text-align: right;\">\n",
       "      <th></th>\n",
       "      <th>RANK</th>\n",
       "      <th>Country</th>\n",
       "      <th>Happiness score</th>\n",
       "      <th>GDP per capita</th>\n",
       "      <th>Social Support</th>\n",
       "      <th>Healthy life expectancy</th>\n",
       "      <th>Life Choice Freedom</th>\n",
       "      <th>Generosity</th>\n",
       "      <th>Corruption Perception</th>\n",
       "      <th>text</th>\n",
       "    </tr>\n",
       "  </thead>\n",
       "  <tbody>\n",
       "    <tr>\n",
       "      <th>0</th>\n",
       "      <td>1</td>\n",
       "      <td>Finland</td>\n",
       "      <td>7.821</td>\n",
       "      <td>1.892</td>\n",
       "      <td>1.258</td>\n",
       "      <td>0.775</td>\n",
       "      <td>0.736</td>\n",
       "      <td>0.109</td>\n",
       "      <td>0.534</td>\n",
       "      <td>Finland&lt;br&gt;Happiness score7.821GDP per capita1...</td>\n",
       "    </tr>\n",
       "    <tr>\n",
       "      <th>1</th>\n",
       "      <td>2</td>\n",
       "      <td>Denmark</td>\n",
       "      <td>7.636</td>\n",
       "      <td>1.953</td>\n",
       "      <td>1.243</td>\n",
       "      <td>0.777</td>\n",
       "      <td>0.719</td>\n",
       "      <td>0.188</td>\n",
       "      <td>0.532</td>\n",
       "      <td>Denmark&lt;br&gt;Happiness score7.636GDP per capita1...</td>\n",
       "    </tr>\n",
       "    <tr>\n",
       "      <th>2</th>\n",
       "      <td>3</td>\n",
       "      <td>Iceland</td>\n",
       "      <td>7.557</td>\n",
       "      <td>1.936</td>\n",
       "      <td>1.32</td>\n",
       "      <td>0.803</td>\n",
       "      <td>0.718</td>\n",
       "      <td>0.27</td>\n",
       "      <td>0.191</td>\n",
       "      <td>Iceland&lt;br&gt;Happiness score7.557GDP per capita1...</td>\n",
       "    </tr>\n",
       "    <tr>\n",
       "      <th>3</th>\n",
       "      <td>4</td>\n",
       "      <td>Switzerland</td>\n",
       "      <td>7.512</td>\n",
       "      <td>2.026</td>\n",
       "      <td>1.226</td>\n",
       "      <td>0.822</td>\n",
       "      <td>0.677</td>\n",
       "      <td>0.147</td>\n",
       "      <td>0.461</td>\n",
       "      <td>Switzerland&lt;br&gt;Happiness score7.512GDP per cap...</td>\n",
       "    </tr>\n",
       "    <tr>\n",
       "      <th>4</th>\n",
       "      <td>5</td>\n",
       "      <td>Netherlands</td>\n",
       "      <td>7.415</td>\n",
       "      <td>1.945</td>\n",
       "      <td>1.206</td>\n",
       "      <td>0.787</td>\n",
       "      <td>0.651</td>\n",
       "      <td>0.271</td>\n",
       "      <td>0.419</td>\n",
       "      <td>Netherlands&lt;br&gt;Happiness score7.415GDP per cap...</td>\n",
       "    </tr>\n",
       "  </tbody>\n",
       "</table>\n",
       "</div>"
      ],
      "text/plain": [
       "  RANK      Country Happiness score GDP per capita Social Support  \\\n",
       "0    1      Finland           7.821          1.892          1.258   \n",
       "1    2      Denmark           7.636          1.953          1.243   \n",
       "2    3      Iceland           7.557          1.936           1.32   \n",
       "3    4  Switzerland           7.512          2.026          1.226   \n",
       "4    5  Netherlands           7.415          1.945          1.206   \n",
       "\n",
       "  Healthy life expectancy Life Choice Freedom Generosity  \\\n",
       "0                   0.775               0.736      0.109   \n",
       "1                   0.777               0.719      0.188   \n",
       "2                   0.803               0.718       0.27   \n",
       "3                   0.822               0.677      0.147   \n",
       "4                   0.787               0.651      0.271   \n",
       "\n",
       "  Corruption Perception                                               text  \n",
       "0                 0.534  Finland<br>Happiness score7.821GDP per capita1...  \n",
       "1                 0.532  Denmark<br>Happiness score7.636GDP per capita1...  \n",
       "2                 0.191  Iceland<br>Happiness score7.557GDP per capita1...  \n",
       "3                 0.461  Switzerland<br>Happiness score7.512GDP per cap...  \n",
       "4                 0.419  Netherlands<br>Happiness score7.415GDP per cap...  "
      ]
     },
     "execution_count": 134,
     "metadata": {},
     "output_type": "execute_result"
    }
   ],
   "source": [
    "# Exploratory Analysis\n",
    "# Top 5 ranked countries \n",
    "happiness_report.head(5)"
   ]
  },
  {
   "cell_type": "code",
   "execution_count": 133,
   "id": "24d496b0",
   "metadata": {
    "scrolled": true
   },
   "outputs": [
    {
     "data": {
      "text/html": [
       "<div>\n",
       "<style scoped>\n",
       "    .dataframe tbody tr th:only-of-type {\n",
       "        vertical-align: middle;\n",
       "    }\n",
       "\n",
       "    .dataframe tbody tr th {\n",
       "        vertical-align: top;\n",
       "    }\n",
       "\n",
       "    .dataframe thead th {\n",
       "        text-align: right;\n",
       "    }\n",
       "</style>\n",
       "<table border=\"1\" class=\"dataframe\">\n",
       "  <thead>\n",
       "    <tr style=\"text-align: right;\">\n",
       "      <th></th>\n",
       "      <th>RANK</th>\n",
       "      <th>Country</th>\n",
       "      <th>Happiness score</th>\n",
       "      <th>GDP per capita</th>\n",
       "      <th>Social Support</th>\n",
       "      <th>Healthy life expectancy</th>\n",
       "      <th>Life Choice Freedom</th>\n",
       "      <th>Generosity</th>\n",
       "      <th>Corruption Perception</th>\n",
       "      <th>text</th>\n",
       "    </tr>\n",
       "  </thead>\n",
       "  <tbody>\n",
       "    <tr>\n",
       "      <th>141</th>\n",
       "      <td>142</td>\n",
       "      <td>Botswana*</td>\n",
       "      <td>3.471</td>\n",
       "      <td>1.503</td>\n",
       "      <td>0.815</td>\n",
       "      <td>0.28</td>\n",
       "      <td>0.571</td>\n",
       "      <td>0.012</td>\n",
       "      <td>0.102</td>\n",
       "      <td>Botswana*&lt;br&gt;Happiness score3.471GDP per capit...</td>\n",
       "    </tr>\n",
       "    <tr>\n",
       "      <th>142</th>\n",
       "      <td>143</td>\n",
       "      <td>Rwanda*</td>\n",
       "      <td>3.268</td>\n",
       "      <td>0.785</td>\n",
       "      <td>0.133</td>\n",
       "      <td>0.462</td>\n",
       "      <td>0.621</td>\n",
       "      <td>0.187</td>\n",
       "      <td>0.544</td>\n",
       "      <td>Rwanda*&lt;br&gt;Happiness score3.268GDP per capita0...</td>\n",
       "    </tr>\n",
       "    <tr>\n",
       "      <th>143</th>\n",
       "      <td>144</td>\n",
       "      <td>Zimbabwe</td>\n",
       "      <td>2.995</td>\n",
       "      <td>0.947</td>\n",
       "      <td>0.69</td>\n",
       "      <td>0.27</td>\n",
       "      <td>0.329</td>\n",
       "      <td>0.106</td>\n",
       "      <td>0.105</td>\n",
       "      <td>Zimbabwe&lt;br&gt;Happiness score2.995GDP per capita...</td>\n",
       "    </tr>\n",
       "    <tr>\n",
       "      <th>144</th>\n",
       "      <td>145</td>\n",
       "      <td>Lebanon</td>\n",
       "      <td>2.955</td>\n",
       "      <td>1.392</td>\n",
       "      <td>0.498</td>\n",
       "      <td>0.631</td>\n",
       "      <td>0.103</td>\n",
       "      <td>0.082</td>\n",
       "      <td>0.034</td>\n",
       "      <td>Lebanon&lt;br&gt;Happiness score2.955GDP per capita1...</td>\n",
       "    </tr>\n",
       "    <tr>\n",
       "      <th>145</th>\n",
       "      <td>146</td>\n",
       "      <td>Afghanistan</td>\n",
       "      <td>2.404</td>\n",
       "      <td>0.758</td>\n",
       "      <td>0.0</td>\n",
       "      <td>0.289</td>\n",
       "      <td>0.0</td>\n",
       "      <td>0.089</td>\n",
       "      <td>0.005</td>\n",
       "      <td>Afghanistan&lt;br&gt;Happiness score2.404GDP per cap...</td>\n",
       "    </tr>\n",
       "  </tbody>\n",
       "</table>\n",
       "</div>"
      ],
      "text/plain": [
       "    RANK      Country Happiness score GDP per capita Social Support  \\\n",
       "141  142    Botswana*           3.471          1.503          0.815   \n",
       "142  143      Rwanda*           3.268          0.785          0.133   \n",
       "143  144     Zimbabwe           2.995          0.947           0.69   \n",
       "144  145      Lebanon           2.955          1.392          0.498   \n",
       "145  146  Afghanistan           2.404          0.758            0.0   \n",
       "\n",
       "    Healthy life expectancy Life Choice Freedom Generosity  \\\n",
       "141                    0.28               0.571      0.012   \n",
       "142                   0.462               0.621      0.187   \n",
       "143                    0.27               0.329      0.106   \n",
       "144                   0.631               0.103      0.082   \n",
       "145                   0.289                 0.0      0.089   \n",
       "\n",
       "    Corruption Perception                                               text  \n",
       "141                 0.102  Botswana*<br>Happiness score3.471GDP per capit...  \n",
       "142                 0.544  Rwanda*<br>Happiness score3.268GDP per capita0...  \n",
       "143                 0.105  Zimbabwe<br>Happiness score2.995GDP per capita...  \n",
       "144                 0.034  Lebanon<br>Happiness score2.955GDP per capita1...  \n",
       "145                 0.005  Afghanistan<br>Happiness score2.404GDP per cap...  "
      ]
     },
     "execution_count": 133,
     "metadata": {},
     "output_type": "execute_result"
    }
   ],
   "source": [
    "# Bottom 5 ranked countries\n",
    "happiness_report.tail(5)"
   ]
  },
  {
   "cell_type": "code",
   "execution_count": 88,
   "id": "3fcb1df4",
   "metadata": {},
   "outputs": [
    {
     "data": {
      "text/html": [
       "<div>\n",
       "<style scoped>\n",
       "    .dataframe tbody tr th:only-of-type {\n",
       "        vertical-align: middle;\n",
       "    }\n",
       "\n",
       "    .dataframe tbody tr th {\n",
       "        vertical-align: top;\n",
       "    }\n",
       "\n",
       "    .dataframe thead th {\n",
       "        text-align: right;\n",
       "    }\n",
       "</style>\n",
       "<table border=\"1\" class=\"dataframe\">\n",
       "  <thead>\n",
       "    <tr style=\"text-align: right;\">\n",
       "      <th></th>\n",
       "      <th>count</th>\n",
       "      <th>unique</th>\n",
       "      <th>top</th>\n",
       "      <th>freq</th>\n",
       "    </tr>\n",
       "  </thead>\n",
       "  <tbody>\n",
       "    <tr>\n",
       "      <th>RANK</th>\n",
       "      <td>146</td>\n",
       "      <td>146</td>\n",
       "      <td>1</td>\n",
       "      <td>1</td>\n",
       "    </tr>\n",
       "    <tr>\n",
       "      <th>Country</th>\n",
       "      <td>146</td>\n",
       "      <td>146</td>\n",
       "      <td>Finland</td>\n",
       "      <td>1</td>\n",
       "    </tr>\n",
       "    <tr>\n",
       "      <th>Happiness score</th>\n",
       "      <td>146</td>\n",
       "      <td>141</td>\n",
       "      <td>4.516</td>\n",
       "      <td>2</td>\n",
       "    </tr>\n",
       "    <tr>\n",
       "      <th>GDP per capita</th>\n",
       "      <td>146</td>\n",
       "      <td>141</td>\n",
       "      <td>1.815</td>\n",
       "      <td>3</td>\n",
       "    </tr>\n",
       "    <tr>\n",
       "      <th>Social Support</th>\n",
       "      <td>146</td>\n",
       "      <td>133</td>\n",
       "      <td>0.865</td>\n",
       "      <td>3</td>\n",
       "    </tr>\n",
       "    <tr>\n",
       "      <th>Healthy life expectancy</th>\n",
       "      <td>146</td>\n",
       "      <td>134</td>\n",
       "      <td>0.803</td>\n",
       "      <td>2</td>\n",
       "    </tr>\n",
       "    <tr>\n",
       "      <th>Life Choice Freedom</th>\n",
       "      <td>146</td>\n",
       "      <td>128</td>\n",
       "      <td>0.448</td>\n",
       "      <td>3</td>\n",
       "    </tr>\n",
       "    <tr>\n",
       "      <th>Generosity</th>\n",
       "      <td>146</td>\n",
       "      <td>116</td>\n",
       "      <td>0.089</td>\n",
       "      <td>4</td>\n",
       "    </tr>\n",
       "    <tr>\n",
       "      <th>Corruption Perception</th>\n",
       "      <td>146</td>\n",
       "      <td>116</td>\n",
       "      <td>0.077</td>\n",
       "      <td>4</td>\n",
       "    </tr>\n",
       "    <tr>\n",
       "      <th>text</th>\n",
       "      <td>146</td>\n",
       "      <td>146</td>\n",
       "      <td>Finland&lt;br&gt;Happiness score7.821GDP per capita1...</td>\n",
       "      <td>1</td>\n",
       "    </tr>\n",
       "  </tbody>\n",
       "</table>\n",
       "</div>"
      ],
      "text/plain": [
       "                        count unique  \\\n",
       "RANK                      146    146   \n",
       "Country                   146    146   \n",
       "Happiness score           146    141   \n",
       "GDP per capita            146    141   \n",
       "Social Support            146    133   \n",
       "Healthy life expectancy   146    134   \n",
       "Life Choice Freedom       146    128   \n",
       "Generosity                146    116   \n",
       "Corruption Perception     146    116   \n",
       "text                      146    146   \n",
       "\n",
       "                                                                       top  \\\n",
       "RANK                                                                     1   \n",
       "Country                                                            Finland   \n",
       "Happiness score                                                      4.516   \n",
       "GDP per capita                                                       1.815   \n",
       "Social Support                                                       0.865   \n",
       "Healthy life expectancy                                              0.803   \n",
       "Life Choice Freedom                                                  0.448   \n",
       "Generosity                                                           0.089   \n",
       "Corruption Perception                                                0.077   \n",
       "text                     Finland<br>Happiness score7.821GDP per capita1...   \n",
       "\n",
       "                        freq  \n",
       "RANK                       1  \n",
       "Country                    1  \n",
       "Happiness score            2  \n",
       "GDP per capita             3  \n",
       "Social Support             3  \n",
       "Healthy life expectancy    2  \n",
       "Life Choice Freedom        3  \n",
       "Generosity                 4  \n",
       "Corruption Perception      4  \n",
       "text                       1  "
      ]
     },
     "execution_count": 88,
     "metadata": {},
     "output_type": "execute_result"
    }
   ],
   "source": [
    "#Statistical Summary\n",
    "happiness_report.describe().T"
   ]
  },
  {
   "cell_type": "code",
   "execution_count": 89,
   "id": "99f513d9",
   "metadata": {},
   "outputs": [],
   "source": [
    "# Country ranking and important influencing components that determine it\n",
    "\n",
    "for cols in happiness_report.columns:\n",
    "    happiness_report[cols] = happiness_report[cols].astype(str)\n",
    "happiness_report['text'] = happiness_report['Country'] +'<br>' + \\\n",
    "    'Happiness score' + happiness_report['Happiness score'] + 'GDP per capita' + happiness_report['GDP per capita'] + '<br>' + \\\n",
    "    'Social Support' + happiness_report['Social Support'] +'Healthy life expectancy' + happiness_report['Healthy life expectancy'] + '<br>' + \\\n",
    "    'Life Choice Freedom' + happiness_report['Life Choice Freedom'] + 'Generosity' + happiness_report['Generosity'] + 'Corruption Perception' +happiness_report['Corruption Perception']\n"
   ]
  },
  {
   "cell_type": "code",
   "execution_count": 90,
   "id": "119bf7f1",
   "metadata": {},
   "outputs": [],
   "source": [
    "factors = dict(type='choropleth',\n",
    "            colorscale = 'Blues',\n",
    "            locations = happiness_report['Country'],\n",
    "            z = happiness_report['RANK'].astype(int),\n",
    "            locationmode = 'country names',\n",
    "            text = happiness_report['text'],\n",
    "            colorbar_title = 'Countries Happiness Ranking'\n",
    "            ) "
   ]
  },
  {
   "cell_type": "code",
   "execution_count": 91,
   "id": "4da5b9ba",
   "metadata": {},
   "outputs": [],
   "source": [
    "factor_layout = dict(title = '2005-2019 Happiness Ranking of Each Country<br>(Hover for more average factor breakdown)',\n",
    "              geo = dict(scope='world'))"
   ]
  },
  {
   "cell_type": "code",
   "execution_count": 92,
   "id": "c01a484e",
   "metadata": {},
   "outputs": [],
   "source": [
    "choromap = go.Figure(data = [factors],layout = factor_layout)"
   ]
  },
  {
   "cell_type": "code",
   "execution_count": 83,
   "id": "33067fa7",
   "metadata": {},
   "outputs": [],
   "source": [
    "# Country ranking and important influencing components\n",
    "\n",
    "for cols in happiness_report.columns:\n",
    "    happiness_report[cols] = happiness_report[cols].astype(str)\n",
    "happiness_report['text'] = happiness_report['Country'] +'<br>' + \\\n",
    "    'Happiness score' + happiness_report['Happiness score'] + 'GDP per capita' + happiness_report['GDP per capita'] + '<br>' + \\\n",
    "    'Social Support' + happiness_report['Social Support'] +'Healthy life expectancy' + happiness_report['Healthy life expectancy'] + '<br>' + \\\n",
    "    'Life Choice Freedom' + happiness_report['Life Choice Freedom'] + 'Generosity' + happiness_report['Generosity'] + 'Corruption Perception' +happiness_report['Corruption Perception']"
   ]
  },
  {
   "cell_type": "code",
   "execution_count": 84,
   "id": "63bcc6f3",
   "metadata": {},
   "outputs": [],
   "source": [
    "factors = dict(type='choropleth',\n",
    "            colorscale = 'Blues',\n",
    "            locations = happiness_report['Country'],\n",
    "            z = happiness_report['RANK'].astype(int),\n",
    "            locationmode = 'country names',\n",
    "            text = happiness_report['text'],\n",
    "            colorbar_title = 'Countries Happiness Ranking'\n",
    "            ) "
   ]
  },
  {
   "cell_type": "code",
   "execution_count": 99,
   "id": "591cf569",
   "metadata": {},
   "outputs": [],
   "source": [
    "factor_layout = dict(title = 'Happiness Ranking of Each Country<br>(Hover for more average factor breakdown)',\n",
    "              geo = dict(scope='world'))\n",
    "             "
   ]
  },
  {
   "cell_type": "code",
   "execution_count": 100,
   "id": "5f0941c0",
   "metadata": {},
   "outputs": [],
   "source": [
    "choromap = go.Figure(data = [factors],layout = factor_layout)"
   ]
  },
  {
   "cell_type": "code",
   "execution_count": 142,
   "id": "b581df9d",
   "metadata": {},
   "outputs": [
    {
     "data": {
      "application/vnd.plotly.v1+json": {
       "config": {
        "linkText": "Export to plot.ly",
        "plotlyServerURL": "https://plot.ly",
        "showLink": false
       },
       "data": [
        {
         "colorbar": {
          "title": {
           "text": "Countries Happiness Ranking"
          }
         },
         "colorscale": [
          [
           0,
           "rgb(247,251,255)"
          ],
          [
           0.125,
           "rgb(222,235,247)"
          ],
          [
           0.25,
           "rgb(198,219,239)"
          ],
          [
           0.375,
           "rgb(158,202,225)"
          ],
          [
           0.5,
           "rgb(107,174,214)"
          ],
          [
           0.625,
           "rgb(66,146,198)"
          ],
          [
           0.75,
           "rgb(33,113,181)"
          ],
          [
           0.875,
           "rgb(8,81,156)"
          ],
          [
           1,
           "rgb(8,48,107)"
          ]
         ],
         "locationmode": "country names",
         "locations": [
          "Finland",
          "Denmark",
          "Iceland",
          "Switzerland",
          "Netherlands",
          "Luxembourg*",
          "Sweden",
          "Norway",
          "Israel",
          "New Zealand",
          "Austria",
          "Australia",
          "Ireland",
          "Germany",
          "Canada",
          "United States",
          "United Kingdom",
          "Czechia",
          "Belgium",
          "France",
          "Bahrain",
          "Slovenia",
          "Costa Rica",
          "United Arab Emirates",
          "Saudi Arabia",
          "Taiwan Province of China",
          "Singapore",
          "Romania",
          "Spain",
          "Uruguay",
          "Italy",
          "Kosovo",
          "Malta",
          "Lithuania",
          "Slovakia",
          "Estonia",
          "Panama",
          "Brazil",
          "Guatemala*",
          "Kazakhstan",
          "Cyprus",
          "Latvia",
          "Serbia",
          "Chile",
          "Nicaragua",
          "Mexico",
          "Croatia",
          "Poland",
          "El Salvador",
          "Kuwait*",
          "Hungary",
          "Mauritius",
          "Uzbekistan",
          "Japan",
          "Honduras",
          "Portugal",
          "Argentina",
          "Greece",
          "South Korea",
          "Philippines",
          "Thailand",
          "Moldova",
          "Jamaica",
          "Kyrgyzstan",
          "Belarus*",
          "Colombia",
          "Bosnia and Herzegovina",
          "Mongolia",
          "Dominican Republic",
          "Malaysia",
          "Bolivia",
          "China",
          "Paraguay",
          "Peru",
          "Montenegro",
          "Ecuador",
          "Vietnam",
          "Turkmenistan*",
          "North Cyprus*",
          "Russia",
          "Hong Kong S.A.R. of China",
          "Armenia",
          "Tajikistan",
          "Nepal",
          "Bulgaria",
          "Libya*",
          "Indonesia",
          "Ivory Coast",
          "North Macedonia",
          "Albania",
          "South Africa",
          "Azerbaijan*",
          "Gambia*",
          "Bangladesh",
          "Laos",
          "Algeria",
          "Liberia*",
          "Ukraine",
          "Congo",
          "Morocco",
          "Mozambique",
          "Cameroon",
          "Senegal",
          "Niger*",
          "Georgia",
          "Gabon",
          "Iraq",
          "Venezuela",
          "Guinea",
          "Iran",
          "Ghana",
          "Turkey",
          "Burkina Faso",
          "Cambodia",
          "Benin",
          "Comoros*",
          "Uganda",
          "Nigeria",
          "Kenya",
          "Tunisia",
          "Pakistan",
          "Palestinian Territories*",
          "Mali",
          "Namibia",
          "Eswatini, Kingdom of*",
          "Myanmar",
          "Sri Lanka",
          "Madagascar*",
          "Egypt",
          "Chad*",
          "Ethiopia",
          "Yemen*",
          "Mauritania*",
          "Jordan",
          "Togo",
          "India",
          "Zambia",
          "Malawi",
          "Tanzania",
          "Sierra Leone",
          "Lesotho*",
          "Botswana*",
          "Rwanda*",
          "Zimbabwe",
          "Lebanon",
          "Afghanistan"
         ],
         "text": [
          "Finland<br>Happiness score7.821GDP per capita1.892<br>Social Support1.258Healthy life expectancy0.775<br>Life Choice Freedom0.736Generosity0.109Corruption Perception0.534",
          "Denmark<br>Happiness score7.636GDP per capita1.953<br>Social Support1.243Healthy life expectancy0.777<br>Life Choice Freedom0.719Generosity0.188Corruption Perception0.532",
          "Iceland<br>Happiness score7.557GDP per capita1.936<br>Social Support1.32Healthy life expectancy0.803<br>Life Choice Freedom0.718Generosity0.27Corruption Perception0.191",
          "Switzerland<br>Happiness score7.512GDP per capita2.026<br>Social Support1.226Healthy life expectancy0.822<br>Life Choice Freedom0.677Generosity0.147Corruption Perception0.461",
          "Netherlands<br>Happiness score7.415GDP per capita1.945<br>Social Support1.206Healthy life expectancy0.787<br>Life Choice Freedom0.651Generosity0.271Corruption Perception0.419",
          "Luxembourg*<br>Happiness score7.404GDP per capita2.209<br>Social Support1.155Healthy life expectancy0.79<br>Life Choice Freedom0.7Generosity0.12Corruption Perception0.388",
          "Sweden<br>Happiness score7.384GDP per capita1.92<br>Social Support1.204Healthy life expectancy0.803<br>Life Choice Freedom0.724Generosity0.218Corruption Perception0.512",
          "Norway<br>Happiness score7.365GDP per capita1.997<br>Social Support1.239Healthy life expectancy0.786<br>Life Choice Freedom0.728Generosity0.217Corruption Perception0.474",
          "Israel<br>Happiness score7.364GDP per capita1.826<br>Social Support1.221Healthy life expectancy0.818<br>Life Choice Freedom0.568Generosity0.155Corruption Perception0.143",
          "New Zealand<br>Happiness score7.2GDP per capita1.852<br>Social Support1.235Healthy life expectancy0.752<br>Life Choice Freedom0.68Generosity0.245Corruption Perception0.483",
          "Austria<br>Happiness score7.163GDP per capita1.931<br>Social Support1.165Healthy life expectancy0.774<br>Life Choice Freedom0.623Generosity0.193Corruption Perception0.329",
          "Australia<br>Happiness score7.162GDP per capita1.9<br>Social Support1.203Healthy life expectancy0.772<br>Life Choice Freedom0.676Generosity0.258Corruption Perception0.341",
          "Ireland<br>Happiness score7.041GDP per capita2.129<br>Social Support1.166Healthy life expectancy0.779<br>Life Choice Freedom0.627Generosity0.19Corruption Perception0.408",
          "Germany<br>Happiness score7.034GDP per capita1.924<br>Social Support1.088Healthy life expectancy0.776<br>Life Choice Freedom0.585Generosity0.163Corruption Perception0.358",
          "Canada<br>Happiness score7.025GDP per capita1.886<br>Social Support1.188Healthy life expectancy0.783<br>Life Choice Freedom0.659Generosity0.217Corruption Perception0.368",
          "United States<br>Happiness score6.977GDP per capita1.982<br>Social Support1.182Healthy life expectancy0.628<br>Life Choice Freedom0.574Generosity0.22Corruption Perception0.177",
          "United Kingdom<br>Happiness score6.943GDP per capita1.867<br>Social Support1.143Healthy life expectancy0.75<br>Life Choice Freedom0.597Generosity0.289Corruption Perception0.329",
          "Czechia<br>Happiness score6.92GDP per capita1.815<br>Social Support1.26Healthy life expectancy0.715<br>Life Choice Freedom0.66Generosity0.158Corruption Perception0.048",
          "Belgium<br>Happiness score6.805GDP per capita1.907<br>Social Support1.106Healthy life expectancy0.764<br>Life Choice Freedom0.492Generosity0.049Corruption Perception0.204",
          "France<br>Happiness score6.687GDP per capita1.863<br>Social Support1.219Healthy life expectancy0.808<br>Life Choice Freedom0.567Generosity0.07Corruption Perception0.266",
          "Bahrain<br>Happiness score6.647GDP per capita1.854<br>Social Support1.029Healthy life expectancy0.625<br>Life Choice Freedom0.693Generosity0.199Corruption Perception0.155",
          "Slovenia<br>Happiness score6.63GDP per capita1.81<br>Social Support1.249Healthy life expectancy0.769<br>Life Choice Freedom0.685Generosity0.118Corruption Perception0.115",
          "Costa Rica<br>Happiness score6.582GDP per capita1.584<br>Social Support1.054Healthy life expectancy0.744<br>Life Choice Freedom0.661Generosity0.089Corruption Perception0.102",
          "United Arab Emirates<br>Happiness score6.576GDP per capita1.998<br>Social Support0.98Healthy life expectancy0.633<br>Life Choice Freedom0.702Generosity0.204Corruption Perception0.25",
          "Saudi Arabia<br>Happiness score6.523GDP per capita1.87<br>Social Support1.092Healthy life expectancy0.577<br>Life Choice Freedom0.651Generosity0.078Corruption Perception0.18",
          "Taiwan Province of China<br>Happiness score6.512GDP per capita1.897<br>Social Support1.095Healthy life expectancy0.733<br>Life Choice Freedom0.542Generosity0.075Corruption Perception0.168",
          "Singapore<br>Happiness score6.48GDP per capita2.149<br>Social Support1.127Healthy life expectancy0.851<br>Life Choice Freedom0.672Generosity0.163Corruption Perception0.587",
          "Romania<br>Happiness score6.477GDP per capita1.719<br>Social Support1.006Healthy life expectancy0.655<br>Life Choice Freedom0.605Generosity0.039Corruption Perception0.006",
          "Spain<br>Happiness score6.476GDP per capita1.808<br>Social Support1.211Healthy life expectancy0.808<br>Life Choice Freedom0.505Generosity0.101Corruption Perception0.149",
          "Uruguay<br>Happiness score6.474GDP per capita1.615<br>Social Support1.18Healthy life expectancy0.672<br>Life Choice Freedom0.665Generosity0.103Corruption Perception0.265",
          "Italy<br>Happiness score6.467GDP per capita1.834<br>Social Support1.052Healthy life expectancy0.801<br>Life Choice Freedom0.412Generosity0.085Corruption Perception0.059",
          "Kosovo<br>Happiness score6.455GDP per capita1.362<br>Social Support0.949Healthy life expectancy0.569<br>Life Choice Freedom0.599Generosity0.309Corruption Perception0.035",
          "Malta<br>Happiness score6.447GDP per capita1.838<br>Social Support1.169Healthy life expectancy0.789<br>Life Choice Freedom0.679Generosity0.174Corruption Perception0.166",
          "Lithuania<br>Happiness score6.446GDP per capita1.804<br>Social Support1.204Healthy life expectancy0.659<br>Life Choice Freedom0.496Generosity0.053Corruption Perception0.077",
          "Slovakia<br>Happiness score6.391GDP per capita1.736<br>Social Support1.232Healthy life expectancy0.707<br>Life Choice Freedom0.479Generosity0.118Corruption Perception0.025",
          "Estonia<br>Happiness score6.341GDP per capita1.793<br>Social Support1.232Healthy life expectancy0.728<br>Life Choice Freedom0.689Generosity0.123Corruption Perception0.333",
          "Panama<br>Happiness score6.309GDP per capita1.715<br>Social Support1.107Healthy life expectancy0.709<br>Life Choice Freedom0.592Generosity0.049Corruption Perception0.051",
          "Brazil<br>Happiness score6.293GDP per capita1.462<br>Social Support1.044Healthy life expectancy0.615<br>Life Choice Freedom0.546Generosity0.131Corruption Perception0.134",
          "Guatemala*<br>Happiness score6.262GDP per capita1.274<br>Social Support0.831Healthy life expectancy0.522<br>Life Choice Freedom0.662Generosity0.112Corruption Perception0.115",
          "Kazakhstan<br>Happiness score6.234GDP per capita1.668<br>Social Support1.22Healthy life expectancy0.611<br>Life Choice Freedom0.584Generosity0.134Corruption Perception0.157",
          "Cyprus<br>Happiness score6.221GDP per capita1.815<br>Social Support0.909Healthy life expectancy0.819<br>Life Choice Freedom0.448Generosity0.123Corruption Perception0.062",
          "Latvia<br>Happiness score6.18GDP per capita1.732<br>Social Support1.221Healthy life expectancy0.637<br>Life Choice Freedom0.502Generosity0.075Corruption Perception0.09",
          "Serbia<br>Happiness score6.178GDP per capita1.55<br>Social Support1.086Healthy life expectancy0.658<br>Life Choice Freedom0.546Generosity0.219Corruption Perception0.088",
          "Chile<br>Happiness score6.172GDP per capita1.651<br>Social Support1.08Healthy life expectancy0.748<br>Life Choice Freedom0.46Generosity0.124Corruption Perception0.069",
          "Nicaragua<br>Happiness score6.165GDP per capita1.105<br>Social Support1.029Healthy life expectancy0.617<br>Life Choice Freedom0.617Generosity0.168Corruption Perception0.212",
          "Mexico<br>Happiness score6.128GDP per capita1.552<br>Social Support0.886Healthy life expectancy0.623<br>Life Choice Freedom0.621Generosity0.092Corruption Perception0.115",
          "Croatia<br>Happiness score6.125GDP per capita1.705<br>Social Support1.183Healthy life expectancy0.709<br>Life Choice Freedom0.535Generosity0.109Corruption Perception0.0",
          "Poland<br>Happiness score6.123GDP per capita1.758<br>Social Support1.174Healthy life expectancy0.712<br>Life Choice Freedom0.523Generosity0.124Corruption Perception0.14",
          "El Salvador<br>Happiness score6.12GDP per capita1.265<br>Social Support0.768Healthy life expectancy0.607<br>Life Choice Freedom0.666Generosity0.089Corruption Perception0.212",
          "Kuwait*<br>Happiness score6.106GDP per capita1.904<br>Social Support0.983Healthy life expectancy0.747<br>Life Choice Freedom0.617Generosity0.087Corruption Perception0.147",
          "Hungary<br>Happiness score6.086GDP per capita1.748<br>Social Support1.233Healthy life expectancy0.668<br>Life Choice Freedom0.485Generosity0.078Corruption Perception0.064",
          "Mauritius<br>Happiness score6.071GDP per capita1.591<br>Social Support1.116Healthy life expectancy0.568<br>Life Choice Freedom0.589Generosity0.131Corruption Perception0.107",
          "Uzbekistan<br>Happiness score6.063GDP per capita1.219<br>Social Support1.092Healthy life expectancy0.6<br>Life Choice Freedom0.716Generosity0.283Corruption Perception0.24",
          "Japan<br>Happiness score6.039GDP per capita1.835<br>Social Support1.089Healthy life expectancy0.866<br>Life Choice Freedom0.537Generosity0.007Corruption Perception0.218",
          "Honduras<br>Happiness score6.022GDP per capita1.111<br>Social Support0.885Healthy life expectancy0.555<br>Life Choice Freedom0.582Generosity0.202Corruption Perception0.076",
          "Portugal<br>Happiness score6.016GDP per capita1.76<br>Social Support1.078Healthy life expectancy0.777<br>Life Choice Freedom0.655Generosity0.016Corruption Perception0.039",
          "Argentina<br>Happiness score5.967GDP per capita1.592<br>Social Support1.102Healthy life expectancy0.662<br>Life Choice Freedom0.555Generosity0.081Corruption Perception0.085",
          "Greece<br>Happiness score5.948GDP per capita1.703<br>Social Support0.98Healthy life expectancy0.774<br>Life Choice Freedom0.249Generosity0.015Corruption Perception0.108",
          "South Korea<br>Happiness score5.935GDP per capita1.851<br>Social Support0.886Healthy life expectancy0.841<br>Life Choice Freedom0.414Generosity0.111Corruption Perception0.176",
          "Philippines<br>Happiness score5.904GDP per capita1.268<br>Social Support0.912Healthy life expectancy0.514<br>Life Choice Freedom0.678Generosity0.107Corruption Perception0.142",
          "Thailand<br>Happiness score5.891GDP per capita1.535<br>Social Support1.096Healthy life expectancy0.697<br>Life Choice Freedom0.617Generosity0.321Corruption Perception0.026",
          "Moldova<br>Happiness score5.857GDP per capita1.417<br>Social Support1.008Healthy life expectancy0.597<br>Life Choice Freedom0.561Generosity0.102Corruption Perception0.028",
          "Jamaica<br>Happiness score5.85GDP per capita1.296<br>Social Support1.045Healthy life expectancy0.646<br>Life Choice Freedom0.567Generosity0.08Corruption Perception0.053",
          "Kyrgyzstan<br>Happiness score5.828GDP per capita1.069<br>Social Support1.109Healthy life expectancy0.638<br>Life Choice Freedom0.693Generosity0.208Corruption Perception0.025",
          "Belarus*<br>Happiness score5.821GDP per capita1.562<br>Social Support1.157Healthy life expectancy0.629<br>Life Choice Freedom0.342Generosity0.04Corruption Perception0.282",
          "Colombia<br>Happiness score5.781GDP per capita1.452<br>Social Support0.929Healthy life expectancy0.72<br>Life Choice Freedom0.545Generosity0.087Corruption Perception0.077",
          "Bosnia and Herzegovina<br>Happiness score5.768GDP per capita1.468<br>Social Support1.068Healthy life expectancy0.665<br>Life Choice Freedom0.448Generosity0.244Corruption Perception0.006",
          "Mongolia<br>Happiness score5.761GDP per capita1.393<br>Social Support1.197Healthy life expectancy0.467<br>Life Choice Freedom0.398Generosity0.247Corruption Perception0.059",
          "Dominican Republic<br>Happiness score5.737GDP per capita1.538<br>Social Support1.003Healthy life expectancy0.577<br>Life Choice Freedom0.606Generosity0.084Corruption Perception0.179",
          "Malaysia<br>Happiness score5.711GDP per capita1.689<br>Social Support0.938Healthy life expectancy0.62<br>Life Choice Freedom0.654Generosity0.213Corruption Perception0.126",
          "Bolivia<br>Happiness score5.6GDP per capita1.256<br>Social Support0.88Healthy life expectancy0.555<br>Life Choice Freedom0.627Generosity0.112Corruption Perception0.064",
          "China<br>Happiness score5.585GDP per capita1.508<br>Social Support0.958Healthy life expectancy0.705<br>Life Choice Freedom0.656Generosity0.099Corruption Perception0.142",
          "Paraguay<br>Happiness score5.578GDP per capita1.409<br>Social Support1.13Healthy life expectancy0.624<br>Life Choice Freedom0.629Generosity0.171Corruption Perception0.059",
          "Peru<br>Happiness score5.559GDP per capita1.397<br>Social Support0.865Healthy life expectancy0.735<br>Life Choice Freedom0.545Generosity0.09Corruption Perception0.037",
          "Montenegro<br>Happiness score5.547GDP per capita1.573<br>Social Support1.023Healthy life expectancy0.659<br>Life Choice Freedom0.46Generosity0.135Corruption Perception0.077",
          "Ecuador<br>Happiness score5.533GDP per capita1.352<br>Social Support0.879Healthy life expectancy0.708<br>Life Choice Freedom0.565Generosity0.08Corruption Perception0.083",
          "Vietnam<br>Happiness score5.485GDP per capita1.252<br>Social Support0.932Healthy life expectancy0.611<br>Life Choice Freedom0.707Generosity0.143Corruption Perception0.105",
          "Turkmenistan*<br>Happiness score5.474GDP per capita1.484<br>Social Support1.319Healthy life expectancy0.516<br>Life Choice Freedom0.649Generosity0.314Corruption Perception0.032",
          "North Cyprus*<br>Happiness score5.467GDP per capita1.815<br>Social Support0.888Healthy life expectancy0.819<br>Life Choice Freedom0.523Generosity0.13Corruption Perception0.213",
          "Russia<br>Happiness score5.459GDP per capita1.685<br>Social Support1.095Healthy life expectancy0.586<br>Life Choice Freedom0.401Generosity0.117Corruption Perception0.08",
          "Hong Kong S.A.R. of China<br>Happiness score5.425GDP per capita1.957<br>Social Support0.954Healthy life expectancy0.942<br>Life Choice Freedom0.4Generosity0.147Corruption Perception0.383",
          "Armenia<br>Happiness score5.399GDP per capita1.434<br>Social Support0.82Healthy life expectancy0.668<br>Life Choice Freedom0.558Generosity0.054Corruption Perception0.21",
          "Tajikistan<br>Happiness score5.377GDP per capita0.966<br>Social Support1.005Healthy life expectancy0.518<br>Life Choice Freedom0.572Generosity0.118Corruption Perception0.304",
          "Nepal<br>Happiness score5.377GDP per capita0.984<br>Social Support0.784Healthy life expectancy0.499<br>Life Choice Freedom0.519Generosity0.237Corruption Perception0.13",
          "Bulgaria<br>Happiness score5.371GDP per capita1.625<br>Social Support1.163Healthy life expectancy0.64<br>Life Choice Freedom0.563Generosity0.123Corruption Perception0.021",
          "Libya*<br>Happiness score5.33GDP per capita1.476<br>Social Support0.943Healthy life expectancy0.606<br>Life Choice Freedom0.477Generosity0.106Corruption Perception0.179",
          "Indonesia<br>Happiness score5.24GDP per capita1.382<br>Social Support0.883Healthy life expectancy0.539<br>Life Choice Freedom0.62Generosity0.468Corruption Perception0.047",
          "Ivory Coast<br>Happiness score5.235GDP per capita1.094<br>Social Support0.442Healthy life expectancy0.322<br>Life Choice Freedom0.451Generosity0.149Corruption Perception0.124",
          "North Macedonia<br>Happiness score5.199GDP per capita1.505<br>Social Support0.863Healthy life expectancy0.637<br>Life Choice Freedom0.488Generosity0.215Corruption Perception0.031",
          "Albania<br>Happiness score5.199GDP per capita1.439<br>Social Support0.646Healthy life expectancy0.719<br>Life Choice Freedom0.511Generosity0.138Corruption Perception0.028",
          "South Africa<br>Happiness score5.194GDP per capita1.425<br>Social Support1.088Healthy life expectancy0.361<br>Life Choice Freedom0.442Generosity0.089Corruption Perception0.046",
          "Azerbaijan*<br>Happiness score5.173GDP per capita1.458<br>Social Support1.093Healthy life expectancy0.56<br>Life Choice Freedom0.601Generosity0.023Corruption Perception0.341",
          "Gambia*<br>Happiness score5.164GDP per capita0.785<br>Social Support0.621Healthy life expectancy0.369<br>Life Choice Freedom0.367Generosity0.388Corruption Perception0.103",
          "Bangladesh<br>Happiness score5.155GDP per capita1.06<br>Social Support0.614Healthy life expectancy0.581<br>Life Choice Freedom0.622Generosity0.125Corruption Perception0.187",
          "Laos<br>Happiness score5.14GDP per capita1.239<br>Social Support0.654Healthy life expectancy0.479<br>Life Choice Freedom0.679Generosity0.197Corruption Perception0.184",
          "Algeria<br>Happiness score5.122GDP per capita1.363<br>Social Support0.97Healthy life expectancy0.643<br>Life Choice Freedom0.146Generosity0.106Corruption Perception0.15",
          "Liberia*<br>Happiness score5.122GDP per capita0.636<br>Social Support0.67Healthy life expectancy0.309<br>Life Choice Freedom0.405Generosity0.178Corruption Perception0.08",
          "Ukraine<br>Happiness score5.084GDP per capita1.411<br>Social Support1.081Healthy life expectancy0.583<br>Life Choice Freedom0.473Generosity0.188Corruption Perception0.017",
          "Congo<br>Happiness score5.075GDP per capita0.95<br>Social Support0.405Healthy life expectancy0.355<br>Life Choice Freedom0.431Generosity0.13Corruption Perception0.146",
          "Morocco<br>Happiness score5.06GDP per capita1.208<br>Social Support0.268Healthy life expectancy0.565<br>Life Choice Freedom0.492Generosity0.02Corruption Perception0.102",
          "Mozambique<br>Happiness score5.048GDP per capita0.578<br>Social Support0.66Healthy life expectancy0.191<br>Life Choice Freedom0.593Generosity0.185Corruption Perception0.2",
          "Cameroon<br>Happiness score5.048GDP per capita0.968<br>Social Support0.672Healthy life expectancy0.317<br>Life Choice Freedom0.397Generosity0.152Corruption Perception0.074",
          "Senegal<br>Happiness score5.046GDP per capita0.933<br>Social Support0.53Healthy life expectancy0.447<br>Life Choice Freedom0.494Generosity0.143Corruption Perception0.081",
          "Niger*<br>Happiness score5.003GDP per capita0.57<br>Social Support0.56Healthy life expectancy0.326<br>Life Choice Freedom0.571Generosity0.165Corruption Perception0.145",
          "Georgia<br>Happiness score4.973GDP per capita1.467<br>Social Support0.612Healthy life expectancy0.595<br>Life Choice Freedom0.508Generosity0.0Corruption Perception0.208",
          "Gabon<br>Happiness score4.958GDP per capita1.459<br>Social Support0.738Healthy life expectancy0.396<br>Life Choice Freedom0.343Generosity0.032Corruption Perception0.099",
          "Iraq<br>Happiness score4.941GDP per capita1.289<br>Social Support0.682Healthy life expectancy0.554<br>Life Choice Freedom0.328Generosity0.147Corruption Perception0.046",
          "Venezuela<br>Happiness score4.925GDP per capita0.0<br>Social Support0.968Healthy life expectancy0.578<br>Life Choice Freedom0.283Generosity0.225Corruption Perception0.082",
          "Guinea<br>Happiness score4.891GDP per capita0.848<br>Social Support0.566Healthy life expectancy0.275<br>Life Choice Freedom0.334Generosity0.214Corruption Perception0.116",
          "Iran<br>Happiness score4.888GDP per capita1.41<br>Social Support0.741Healthy life expectancy0.642<br>Life Choice Freedom0.281Generosity0.241Corruption Perception0.146",
          "Ghana<br>Happiness score4.872GDP per capita1.112<br>Social Support0.595Healthy life expectancy0.409<br>Life Choice Freedom0.5Generosity0.23Corruption Perception0.056",
          "Turkey<br>Happiness score4.744GDP per capita1.707<br>Social Support0.865Healthy life expectancy0.702<br>Life Choice Freedom0.209Generosity0.087Corruption Perception0.115",
          "Burkina Faso<br>Happiness score4.67GDP per capita0.779<br>Social Support0.565Healthy life expectancy0.32<br>Life Choice Freedom0.382Generosity0.186Corruption Perception0.126",
          "Cambodia<br>Happiness score4.64GDP per capita1.019<br>Social Support0.732Healthy life expectancy0.505<br>Life Choice Freedom0.74Generosity0.166Corruption Perception0.068",
          "Benin<br>Happiness score4.623GDP per capita0.932<br>Social Support0.064Healthy life expectancy0.335<br>Life Choice Freedom0.479Generosity0.127Corruption Perception0.23",
          "Comoros*<br>Happiness score4.609GDP per capita0.899<br>Social Support0.476Healthy life expectancy0.424<br>Life Choice Freedom0.185Generosity0.195Corruption Perception0.125",
          "Uganda<br>Happiness score4.603GDP per capita0.777<br>Social Support0.875Healthy life expectancy0.418<br>Life Choice Freedom0.402Generosity0.222Corruption Perception0.066",
          "Nigeria<br>Happiness score4.552GDP per capita1.079<br>Social Support0.732Healthy life expectancy0.3<br>Life Choice Freedom0.444Generosity0.175Corruption Perception0.038",
          "Kenya<br>Happiness score4.543GDP per capita1.032<br>Social Support0.605Healthy life expectancy0.401<br>Life Choice Freedom0.44Generosity0.322Corruption Perception0.082",
          "Tunisia<br>Happiness score4.516GDP per capita1.35<br>Social Support0.596Healthy life expectancy0.656<br>Life Choice Freedom0.316Generosity0.029Corruption Perception0.029",
          "Pakistan<br>Happiness score4.516GDP per capita1.049<br>Social Support0.413Healthy life expectancy0.374<br>Life Choice Freedom0.448Generosity0.181Corruption Perception0.112",
          "Palestinian Territories*<br>Happiness score4.483GDP per capita1.148<br>Social Support0.957Healthy life expectancy0.521<br>Life Choice Freedom0.336Generosity0.073Corruption Perception0.079",
          "Mali<br>Happiness score4.479GDP per capita0.792<br>Social Support0.483Healthy life expectancy0.311<br>Life Choice Freedom0.35Generosity0.128Corruption Perception0.042",
          "Namibia<br>Happiness score4.459GDP per capita1.292<br>Social Support0.877Healthy life expectancy0.354<br>Life Choice Freedom0.384Generosity0.067Corruption Perception0.071",
          "Eswatini, Kingdom of*<br>Happiness score4.396GDP per capita1.274<br>Social Support0.786Healthy life expectancy0.197<br>Life Choice Freedom0.259Generosity0.038Corruption Perception0.154",
          "Myanmar<br>Happiness score4.394GDP per capita1.038<br>Social Support0.829Healthy life expectancy0.491<br>Life Choice Freedom0.513Generosity0.452Corruption Perception0.194",
          "Sri Lanka<br>Happiness score4.362GDP per capita1.415<br>Social Support0.934Healthy life expectancy0.66<br>Life Choice Freedom0.529Generosity0.15Corruption Perception0.079",
          "Madagascar*<br>Happiness score4.339GDP per capita0.67<br>Social Support0.645Healthy life expectancy0.378<br>Life Choice Freedom0.202Generosity0.143Corruption Perception0.154",
          "Egypt<br>Happiness score4.288GDP per capita1.388<br>Social Support0.732Healthy life expectancy0.548<br>Life Choice Freedom0.469Generosity0.041Corruption Perception0.254",
          "Chad*<br>Happiness score4.251GDP per capita0.662<br>Social Support0.506Healthy life expectancy0.225<br>Life Choice Freedom0.18Generosity0.182Corruption Perception0.077",
          "Ethiopia<br>Happiness score4.241GDP per capita0.788<br>Social Support0.809Healthy life expectancy0.457<br>Life Choice Freedom0.472Generosity0.205Corruption Perception0.136",
          "Yemen*<br>Happiness score4.197GDP per capita0.691<br>Social Support1.043Healthy life expectancy0.384<br>Life Choice Freedom0.33Generosity0.09Corruption Perception0.098",
          "Mauritania*<br>Happiness score4.153GDP per capita1.1<br>Social Support0.865Healthy life expectancy0.45<br>Life Choice Freedom0.304Generosity0.088Corruption Perception0.138",
          "Jordan<br>Happiness score4.152GDP per capita1.324<br>Social Support0.724Healthy life expectancy0.675<br>Life Choice Freedom0.476Generosity0.058Corruption Perception0.2",
          "Togo<br>Happiness score4.112GDP per capita0.771<br>Social Support0.322Healthy life expectancy0.36<br>Life Choice Freedom0.292Generosity0.174Corruption Perception0.132",
          "India<br>Happiness score3.777GDP per capita1.167<br>Social Support0.376Healthy life expectancy0.471<br>Life Choice Freedom0.647Generosity0.198Corruption Perception0.123",
          "Zambia<br>Happiness score3.76GDP per capita0.93<br>Social Support0.577Healthy life expectancy0.306<br>Life Choice Freedom0.525Generosity0.203Corruption Perception0.083",
          "Malawi<br>Happiness score3.75GDP per capita0.648<br>Social Support0.279Healthy life expectancy0.388<br>Life Choice Freedom0.477Generosity0.14Corruption Perception0.157",
          "Tanzania<br>Happiness score3.702GDP per capita0.848<br>Social Support0.597Healthy life expectancy0.425<br>Life Choice Freedom0.578Generosity0.248Corruption Perception0.27",
          "Sierra Leone<br>Happiness score3.574GDP per capita0.686<br>Social Support0.416Healthy life expectancy0.273<br>Life Choice Freedom0.387Generosity0.202Corruption Perception0.055",
          "Lesotho*<br>Happiness score3.512GDP per capita0.839<br>Social Support0.848Healthy life expectancy0.0<br>Life Choice Freedom0.419Generosity0.076Corruption Perception0.018",
          "Botswana*<br>Happiness score3.471GDP per capita1.503<br>Social Support0.815Healthy life expectancy0.28<br>Life Choice Freedom0.571Generosity0.012Corruption Perception0.102",
          "Rwanda*<br>Happiness score3.268GDP per capita0.785<br>Social Support0.133Healthy life expectancy0.462<br>Life Choice Freedom0.621Generosity0.187Corruption Perception0.544",
          "Zimbabwe<br>Happiness score2.995GDP per capita0.947<br>Social Support0.69Healthy life expectancy0.27<br>Life Choice Freedom0.329Generosity0.106Corruption Perception0.105",
          "Lebanon<br>Happiness score2.955GDP per capita1.392<br>Social Support0.498Healthy life expectancy0.631<br>Life Choice Freedom0.103Generosity0.082Corruption Perception0.034",
          "Afghanistan<br>Happiness score2.404GDP per capita0.758<br>Social Support0.0Healthy life expectancy0.289<br>Life Choice Freedom0.0Generosity0.089Corruption Perception0.005"
         ],
         "type": "choropleth",
         "z": [
          1,
          2,
          3,
          4,
          5,
          6,
          7,
          8,
          9,
          10,
          11,
          12,
          13,
          14,
          15,
          16,
          17,
          18,
          19,
          20,
          21,
          22,
          23,
          24,
          25,
          26,
          27,
          28,
          29,
          30,
          31,
          32,
          33,
          34,
          35,
          36,
          37,
          38,
          39,
          40,
          41,
          42,
          43,
          44,
          45,
          46,
          47,
          48,
          49,
          50,
          51,
          52,
          53,
          54,
          55,
          56,
          57,
          58,
          59,
          60,
          61,
          62,
          63,
          64,
          65,
          66,
          67,
          68,
          69,
          70,
          71,
          72,
          73,
          74,
          75,
          76,
          77,
          78,
          79,
          80,
          81,
          82,
          83,
          84,
          85,
          86,
          87,
          88,
          89,
          90,
          91,
          92,
          93,
          94,
          95,
          96,
          97,
          98,
          99,
          100,
          101,
          102,
          103,
          104,
          105,
          106,
          107,
          108,
          109,
          110,
          111,
          112,
          113,
          114,
          115,
          116,
          117,
          118,
          119,
          120,
          121,
          122,
          123,
          124,
          125,
          126,
          127,
          128,
          129,
          130,
          131,
          132,
          133,
          134,
          135,
          136,
          137,
          138,
          139,
          140,
          141,
          142,
          143,
          144,
          145,
          146
         ]
        }
       ],
       "layout": {
        "geo": {
         "scope": "world"
        },
        "template": {
         "data": {
          "bar": [
           {
            "error_x": {
             "color": "#2a3f5f"
            },
            "error_y": {
             "color": "#2a3f5f"
            },
            "marker": {
             "line": {
              "color": "#E5ECF6",
              "width": 0.5
             },
             "pattern": {
              "fillmode": "overlay",
              "size": 10,
              "solidity": 0.2
             }
            },
            "type": "bar"
           }
          ],
          "barpolar": [
           {
            "marker": {
             "line": {
              "color": "#E5ECF6",
              "width": 0.5
             },
             "pattern": {
              "fillmode": "overlay",
              "size": 10,
              "solidity": 0.2
             }
            },
            "type": "barpolar"
           }
          ],
          "carpet": [
           {
            "aaxis": {
             "endlinecolor": "#2a3f5f",
             "gridcolor": "white",
             "linecolor": "white",
             "minorgridcolor": "white",
             "startlinecolor": "#2a3f5f"
            },
            "baxis": {
             "endlinecolor": "#2a3f5f",
             "gridcolor": "white",
             "linecolor": "white",
             "minorgridcolor": "white",
             "startlinecolor": "#2a3f5f"
            },
            "type": "carpet"
           }
          ],
          "choropleth": [
           {
            "colorbar": {
             "outlinewidth": 0,
             "ticks": ""
            },
            "type": "choropleth"
           }
          ],
          "contour": [
           {
            "colorbar": {
             "outlinewidth": 0,
             "ticks": ""
            },
            "colorscale": [
             [
              0,
              "#0d0887"
             ],
             [
              0.1111111111111111,
              "#46039f"
             ],
             [
              0.2222222222222222,
              "#7201a8"
             ],
             [
              0.3333333333333333,
              "#9c179e"
             ],
             [
              0.4444444444444444,
              "#bd3786"
             ],
             [
              0.5555555555555556,
              "#d8576b"
             ],
             [
              0.6666666666666666,
              "#ed7953"
             ],
             [
              0.7777777777777778,
              "#fb9f3a"
             ],
             [
              0.8888888888888888,
              "#fdca26"
             ],
             [
              1,
              "#f0f921"
             ]
            ],
            "type": "contour"
           }
          ],
          "contourcarpet": [
           {
            "colorbar": {
             "outlinewidth": 0,
             "ticks": ""
            },
            "type": "contourcarpet"
           }
          ],
          "heatmap": [
           {
            "colorbar": {
             "outlinewidth": 0,
             "ticks": ""
            },
            "colorscale": [
             [
              0,
              "#0d0887"
             ],
             [
              0.1111111111111111,
              "#46039f"
             ],
             [
              0.2222222222222222,
              "#7201a8"
             ],
             [
              0.3333333333333333,
              "#9c179e"
             ],
             [
              0.4444444444444444,
              "#bd3786"
             ],
             [
              0.5555555555555556,
              "#d8576b"
             ],
             [
              0.6666666666666666,
              "#ed7953"
             ],
             [
              0.7777777777777778,
              "#fb9f3a"
             ],
             [
              0.8888888888888888,
              "#fdca26"
             ],
             [
              1,
              "#f0f921"
             ]
            ],
            "type": "heatmap"
           }
          ],
          "heatmapgl": [
           {
            "colorbar": {
             "outlinewidth": 0,
             "ticks": ""
            },
            "colorscale": [
             [
              0,
              "#0d0887"
             ],
             [
              0.1111111111111111,
              "#46039f"
             ],
             [
              0.2222222222222222,
              "#7201a8"
             ],
             [
              0.3333333333333333,
              "#9c179e"
             ],
             [
              0.4444444444444444,
              "#bd3786"
             ],
             [
              0.5555555555555556,
              "#d8576b"
             ],
             [
              0.6666666666666666,
              "#ed7953"
             ],
             [
              0.7777777777777778,
              "#fb9f3a"
             ],
             [
              0.8888888888888888,
              "#fdca26"
             ],
             [
              1,
              "#f0f921"
             ]
            ],
            "type": "heatmapgl"
           }
          ],
          "histogram": [
           {
            "marker": {
             "pattern": {
              "fillmode": "overlay",
              "size": 10,
              "solidity": 0.2
             }
            },
            "type": "histogram"
           }
          ],
          "histogram2d": [
           {
            "colorbar": {
             "outlinewidth": 0,
             "ticks": ""
            },
            "colorscale": [
             [
              0,
              "#0d0887"
             ],
             [
              0.1111111111111111,
              "#46039f"
             ],
             [
              0.2222222222222222,
              "#7201a8"
             ],
             [
              0.3333333333333333,
              "#9c179e"
             ],
             [
              0.4444444444444444,
              "#bd3786"
             ],
             [
              0.5555555555555556,
              "#d8576b"
             ],
             [
              0.6666666666666666,
              "#ed7953"
             ],
             [
              0.7777777777777778,
              "#fb9f3a"
             ],
             [
              0.8888888888888888,
              "#fdca26"
             ],
             [
              1,
              "#f0f921"
             ]
            ],
            "type": "histogram2d"
           }
          ],
          "histogram2dcontour": [
           {
            "colorbar": {
             "outlinewidth": 0,
             "ticks": ""
            },
            "colorscale": [
             [
              0,
              "#0d0887"
             ],
             [
              0.1111111111111111,
              "#46039f"
             ],
             [
              0.2222222222222222,
              "#7201a8"
             ],
             [
              0.3333333333333333,
              "#9c179e"
             ],
             [
              0.4444444444444444,
              "#bd3786"
             ],
             [
              0.5555555555555556,
              "#d8576b"
             ],
             [
              0.6666666666666666,
              "#ed7953"
             ],
             [
              0.7777777777777778,
              "#fb9f3a"
             ],
             [
              0.8888888888888888,
              "#fdca26"
             ],
             [
              1,
              "#f0f921"
             ]
            ],
            "type": "histogram2dcontour"
           }
          ],
          "mesh3d": [
           {
            "colorbar": {
             "outlinewidth": 0,
             "ticks": ""
            },
            "type": "mesh3d"
           }
          ],
          "parcoords": [
           {
            "line": {
             "colorbar": {
              "outlinewidth": 0,
              "ticks": ""
             }
            },
            "type": "parcoords"
           }
          ],
          "pie": [
           {
            "automargin": true,
            "type": "pie"
           }
          ],
          "scatter": [
           {
            "marker": {
             "colorbar": {
              "outlinewidth": 0,
              "ticks": ""
             }
            },
            "type": "scatter"
           }
          ],
          "scatter3d": [
           {
            "line": {
             "colorbar": {
              "outlinewidth": 0,
              "ticks": ""
             }
            },
            "marker": {
             "colorbar": {
              "outlinewidth": 0,
              "ticks": ""
             }
            },
            "type": "scatter3d"
           }
          ],
          "scattercarpet": [
           {
            "marker": {
             "colorbar": {
              "outlinewidth": 0,
              "ticks": ""
             }
            },
            "type": "scattercarpet"
           }
          ],
          "scattergeo": [
           {
            "marker": {
             "colorbar": {
              "outlinewidth": 0,
              "ticks": ""
             }
            },
            "type": "scattergeo"
           }
          ],
          "scattergl": [
           {
            "marker": {
             "colorbar": {
              "outlinewidth": 0,
              "ticks": ""
             }
            },
            "type": "scattergl"
           }
          ],
          "scattermapbox": [
           {
            "marker": {
             "colorbar": {
              "outlinewidth": 0,
              "ticks": ""
             }
            },
            "type": "scattermapbox"
           }
          ],
          "scatterpolar": [
           {
            "marker": {
             "colorbar": {
              "outlinewidth": 0,
              "ticks": ""
             }
            },
            "type": "scatterpolar"
           }
          ],
          "scatterpolargl": [
           {
            "marker": {
             "colorbar": {
              "outlinewidth": 0,
              "ticks": ""
             }
            },
            "type": "scatterpolargl"
           }
          ],
          "scatterternary": [
           {
            "marker": {
             "colorbar": {
              "outlinewidth": 0,
              "ticks": ""
             }
            },
            "type": "scatterternary"
           }
          ],
          "surface": [
           {
            "colorbar": {
             "outlinewidth": 0,
             "ticks": ""
            },
            "colorscale": [
             [
              0,
              "#0d0887"
             ],
             [
              0.1111111111111111,
              "#46039f"
             ],
             [
              0.2222222222222222,
              "#7201a8"
             ],
             [
              0.3333333333333333,
              "#9c179e"
             ],
             [
              0.4444444444444444,
              "#bd3786"
             ],
             [
              0.5555555555555556,
              "#d8576b"
             ],
             [
              0.6666666666666666,
              "#ed7953"
             ],
             [
              0.7777777777777778,
              "#fb9f3a"
             ],
             [
              0.8888888888888888,
              "#fdca26"
             ],
             [
              1,
              "#f0f921"
             ]
            ],
            "type": "surface"
           }
          ],
          "table": [
           {
            "cells": {
             "fill": {
              "color": "#EBF0F8"
             },
             "line": {
              "color": "white"
             }
            },
            "header": {
             "fill": {
              "color": "#C8D4E3"
             },
             "line": {
              "color": "white"
             }
            },
            "type": "table"
           }
          ]
         },
         "layout": {
          "annotationdefaults": {
           "arrowcolor": "#2a3f5f",
           "arrowhead": 0,
           "arrowwidth": 1
          },
          "autotypenumbers": "strict",
          "coloraxis": {
           "colorbar": {
            "outlinewidth": 0,
            "ticks": ""
           }
          },
          "colorscale": {
           "diverging": [
            [
             0,
             "#8e0152"
            ],
            [
             0.1,
             "#c51b7d"
            ],
            [
             0.2,
             "#de77ae"
            ],
            [
             0.3,
             "#f1b6da"
            ],
            [
             0.4,
             "#fde0ef"
            ],
            [
             0.5,
             "#f7f7f7"
            ],
            [
             0.6,
             "#e6f5d0"
            ],
            [
             0.7,
             "#b8e186"
            ],
            [
             0.8,
             "#7fbc41"
            ],
            [
             0.9,
             "#4d9221"
            ],
            [
             1,
             "#276419"
            ]
           ],
           "sequential": [
            [
             0,
             "#0d0887"
            ],
            [
             0.1111111111111111,
             "#46039f"
            ],
            [
             0.2222222222222222,
             "#7201a8"
            ],
            [
             0.3333333333333333,
             "#9c179e"
            ],
            [
             0.4444444444444444,
             "#bd3786"
            ],
            [
             0.5555555555555556,
             "#d8576b"
            ],
            [
             0.6666666666666666,
             "#ed7953"
            ],
            [
             0.7777777777777778,
             "#fb9f3a"
            ],
            [
             0.8888888888888888,
             "#fdca26"
            ],
            [
             1,
             "#f0f921"
            ]
           ],
           "sequentialminus": [
            [
             0,
             "#0d0887"
            ],
            [
             0.1111111111111111,
             "#46039f"
            ],
            [
             0.2222222222222222,
             "#7201a8"
            ],
            [
             0.3333333333333333,
             "#9c179e"
            ],
            [
             0.4444444444444444,
             "#bd3786"
            ],
            [
             0.5555555555555556,
             "#d8576b"
            ],
            [
             0.6666666666666666,
             "#ed7953"
            ],
            [
             0.7777777777777778,
             "#fb9f3a"
            ],
            [
             0.8888888888888888,
             "#fdca26"
            ],
            [
             1,
             "#f0f921"
            ]
           ]
          },
          "colorway": [
           "#636efa",
           "#EF553B",
           "#00cc96",
           "#ab63fa",
           "#FFA15A",
           "#19d3f3",
           "#FF6692",
           "#B6E880",
           "#FF97FF",
           "#FECB52"
          ],
          "font": {
           "color": "#2a3f5f"
          },
          "geo": {
           "bgcolor": "white",
           "lakecolor": "white",
           "landcolor": "#E5ECF6",
           "showlakes": true,
           "showland": true,
           "subunitcolor": "white"
          },
          "hoverlabel": {
           "align": "left"
          },
          "hovermode": "closest",
          "mapbox": {
           "style": "light"
          },
          "paper_bgcolor": "white",
          "plot_bgcolor": "#E5ECF6",
          "polar": {
           "angularaxis": {
            "gridcolor": "white",
            "linecolor": "white",
            "ticks": ""
           },
           "bgcolor": "#E5ECF6",
           "radialaxis": {
            "gridcolor": "white",
            "linecolor": "white",
            "ticks": ""
           }
          },
          "scene": {
           "xaxis": {
            "backgroundcolor": "#E5ECF6",
            "gridcolor": "white",
            "gridwidth": 2,
            "linecolor": "white",
            "showbackground": true,
            "ticks": "",
            "zerolinecolor": "white"
           },
           "yaxis": {
            "backgroundcolor": "#E5ECF6",
            "gridcolor": "white",
            "gridwidth": 2,
            "linecolor": "white",
            "showbackground": true,
            "ticks": "",
            "zerolinecolor": "white"
           },
           "zaxis": {
            "backgroundcolor": "#E5ECF6",
            "gridcolor": "white",
            "gridwidth": 2,
            "linecolor": "white",
            "showbackground": true,
            "ticks": "",
            "zerolinecolor": "white"
           }
          },
          "shapedefaults": {
           "line": {
            "color": "#2a3f5f"
           }
          },
          "ternary": {
           "aaxis": {
            "gridcolor": "white",
            "linecolor": "white",
            "ticks": ""
           },
           "baxis": {
            "gridcolor": "white",
            "linecolor": "white",
            "ticks": ""
           },
           "bgcolor": "#E5ECF6",
           "caxis": {
            "gridcolor": "white",
            "linecolor": "white",
            "ticks": ""
           }
          },
          "title": {
           "x": 0.05
          },
          "xaxis": {
           "automargin": true,
           "gridcolor": "white",
           "linecolor": "white",
           "ticks": "",
           "title": {
            "standoff": 15
           },
           "zerolinecolor": "white",
           "zerolinewidth": 2
          },
          "yaxis": {
           "automargin": true,
           "gridcolor": "white",
           "linecolor": "white",
           "ticks": "",
           "title": {
            "standoff": 15
           },
           "zerolinecolor": "white",
           "zerolinewidth": 2
          }
         }
        },
        "title": {
         "text": "Happiness Ranking of Each Country<br>(Hover for more average factor breakdown)"
        }
       }
      },
      "text/html": [
       "<div>                            <div id=\"8b8c94ee-2b35-4201-a198-cba6676bb319\" class=\"plotly-graph-div\" style=\"height:525px; width:100%;\"></div>            <script type=\"text/javascript\">                require([\"plotly\"], function(Plotly) {                    window.PLOTLYENV=window.PLOTLYENV || {};                                    if (document.getElementById(\"8b8c94ee-2b35-4201-a198-cba6676bb319\")) {                    Plotly.newPlot(                        \"8b8c94ee-2b35-4201-a198-cba6676bb319\",                        [{\"colorbar\":{\"title\":{\"text\":\"Countries Happiness Ranking\"}},\"colorscale\":[[0.0,\"rgb(247,251,255)\"],[0.125,\"rgb(222,235,247)\"],[0.25,\"rgb(198,219,239)\"],[0.375,\"rgb(158,202,225)\"],[0.5,\"rgb(107,174,214)\"],[0.625,\"rgb(66,146,198)\"],[0.75,\"rgb(33,113,181)\"],[0.875,\"rgb(8,81,156)\"],[1.0,\"rgb(8,48,107)\"]],\"locationmode\":\"country names\",\"locations\":[\"Finland\",\"Denmark\",\"Iceland\",\"Switzerland\",\"Netherlands\",\"Luxembourg*\",\"Sweden\",\"Norway\",\"Israel\",\"New Zealand\",\"Austria\",\"Australia\",\"Ireland\",\"Germany\",\"Canada\",\"United States\",\"United Kingdom\",\"Czechia\",\"Belgium\",\"France\",\"Bahrain\",\"Slovenia\",\"Costa Rica\",\"United Arab Emirates\",\"Saudi Arabia\",\"Taiwan Province of China\",\"Singapore\",\"Romania\",\"Spain\",\"Uruguay\",\"Italy\",\"Kosovo\",\"Malta\",\"Lithuania\",\"Slovakia\",\"Estonia\",\"Panama\",\"Brazil\",\"Guatemala*\",\"Kazakhstan\",\"Cyprus\",\"Latvia\",\"Serbia\",\"Chile\",\"Nicaragua\",\"Mexico\",\"Croatia\",\"Poland\",\"El Salvador\",\"Kuwait*\",\"Hungary\",\"Mauritius\",\"Uzbekistan\",\"Japan\",\"Honduras\",\"Portugal\",\"Argentina\",\"Greece\",\"South Korea\",\"Philippines\",\"Thailand\",\"Moldova\",\"Jamaica\",\"Kyrgyzstan\",\"Belarus*\",\"Colombia\",\"Bosnia and Herzegovina\",\"Mongolia\",\"Dominican Republic\",\"Malaysia\",\"Bolivia\",\"China\",\"Paraguay\",\"Peru\",\"Montenegro\",\"Ecuador\",\"Vietnam\",\"Turkmenistan*\",\"North Cyprus*\",\"Russia\",\"Hong Kong S.A.R. of China\",\"Armenia\",\"Tajikistan\",\"Nepal\",\"Bulgaria\",\"Libya*\",\"Indonesia\",\"Ivory Coast\",\"North Macedonia\",\"Albania\",\"South Africa\",\"Azerbaijan*\",\"Gambia*\",\"Bangladesh\",\"Laos\",\"Algeria\",\"Liberia*\",\"Ukraine\",\"Congo\",\"Morocco\",\"Mozambique\",\"Cameroon\",\"Senegal\",\"Niger*\",\"Georgia\",\"Gabon\",\"Iraq\",\"Venezuela\",\"Guinea\",\"Iran\",\"Ghana\",\"Turkey\",\"Burkina Faso\",\"Cambodia\",\"Benin\",\"Comoros*\",\"Uganda\",\"Nigeria\",\"Kenya\",\"Tunisia\",\"Pakistan\",\"Palestinian Territories*\",\"Mali\",\"Namibia\",\"Eswatini, Kingdom of*\",\"Myanmar\",\"Sri Lanka\",\"Madagascar*\",\"Egypt\",\"Chad*\",\"Ethiopia\",\"Yemen*\",\"Mauritania*\",\"Jordan\",\"Togo\",\"India\",\"Zambia\",\"Malawi\",\"Tanzania\",\"Sierra Leone\",\"Lesotho*\",\"Botswana*\",\"Rwanda*\",\"Zimbabwe\",\"Lebanon\",\"Afghanistan\"],\"text\":[\"Finland<br>Happiness score7.821GDP per capita1.892<br>Social Support1.258Healthy life expectancy0.775<br>Life Choice Freedom0.736Generosity0.109Corruption Perception0.534\",\"Denmark<br>Happiness score7.636GDP per capita1.953<br>Social Support1.243Healthy life expectancy0.777<br>Life Choice Freedom0.719Generosity0.188Corruption Perception0.532\",\"Iceland<br>Happiness score7.557GDP per capita1.936<br>Social Support1.32Healthy life expectancy0.803<br>Life Choice Freedom0.718Generosity0.27Corruption Perception0.191\",\"Switzerland<br>Happiness score7.512GDP per capita2.026<br>Social Support1.226Healthy life expectancy0.822<br>Life Choice Freedom0.677Generosity0.147Corruption Perception0.461\",\"Netherlands<br>Happiness score7.415GDP per capita1.945<br>Social Support1.206Healthy life expectancy0.787<br>Life Choice Freedom0.651Generosity0.271Corruption Perception0.419\",\"Luxembourg*<br>Happiness score7.404GDP per capita2.209<br>Social Support1.155Healthy life expectancy0.79<br>Life Choice Freedom0.7Generosity0.12Corruption Perception0.388\",\"Sweden<br>Happiness score7.384GDP per capita1.92<br>Social Support1.204Healthy life expectancy0.803<br>Life Choice Freedom0.724Generosity0.218Corruption Perception0.512\",\"Norway<br>Happiness score7.365GDP per capita1.997<br>Social Support1.239Healthy life expectancy0.786<br>Life Choice Freedom0.728Generosity0.217Corruption Perception0.474\",\"Israel<br>Happiness score7.364GDP per capita1.826<br>Social Support1.221Healthy life expectancy0.818<br>Life Choice Freedom0.568Generosity0.155Corruption Perception0.143\",\"New Zealand<br>Happiness score7.2GDP per capita1.852<br>Social Support1.235Healthy life expectancy0.752<br>Life Choice Freedom0.68Generosity0.245Corruption Perception0.483\",\"Austria<br>Happiness score7.163GDP per capita1.931<br>Social Support1.165Healthy life expectancy0.774<br>Life Choice Freedom0.623Generosity0.193Corruption Perception0.329\",\"Australia<br>Happiness score7.162GDP per capita1.9<br>Social Support1.203Healthy life expectancy0.772<br>Life Choice Freedom0.676Generosity0.258Corruption Perception0.341\",\"Ireland<br>Happiness score7.041GDP per capita2.129<br>Social Support1.166Healthy life expectancy0.779<br>Life Choice Freedom0.627Generosity0.19Corruption Perception0.408\",\"Germany<br>Happiness score7.034GDP per capita1.924<br>Social Support1.088Healthy life expectancy0.776<br>Life Choice Freedom0.585Generosity0.163Corruption Perception0.358\",\"Canada<br>Happiness score7.025GDP per capita1.886<br>Social Support1.188Healthy life expectancy0.783<br>Life Choice Freedom0.659Generosity0.217Corruption Perception0.368\",\"United States<br>Happiness score6.977GDP per capita1.982<br>Social Support1.182Healthy life expectancy0.628<br>Life Choice Freedom0.574Generosity0.22Corruption Perception0.177\",\"United Kingdom<br>Happiness score6.943GDP per capita1.867<br>Social Support1.143Healthy life expectancy0.75<br>Life Choice Freedom0.597Generosity0.289Corruption Perception0.329\",\"Czechia<br>Happiness score6.92GDP per capita1.815<br>Social Support1.26Healthy life expectancy0.715<br>Life Choice Freedom0.66Generosity0.158Corruption Perception0.048\",\"Belgium<br>Happiness score6.805GDP per capita1.907<br>Social Support1.106Healthy life expectancy0.764<br>Life Choice Freedom0.492Generosity0.049Corruption Perception0.204\",\"France<br>Happiness score6.687GDP per capita1.863<br>Social Support1.219Healthy life expectancy0.808<br>Life Choice Freedom0.567Generosity0.07Corruption Perception0.266\",\"Bahrain<br>Happiness score6.647GDP per capita1.854<br>Social Support1.029Healthy life expectancy0.625<br>Life Choice Freedom0.693Generosity0.199Corruption Perception0.155\",\"Slovenia<br>Happiness score6.63GDP per capita1.81<br>Social Support1.249Healthy life expectancy0.769<br>Life Choice Freedom0.685Generosity0.118Corruption Perception0.115\",\"Costa Rica<br>Happiness score6.582GDP per capita1.584<br>Social Support1.054Healthy life expectancy0.744<br>Life Choice Freedom0.661Generosity0.089Corruption Perception0.102\",\"United Arab Emirates<br>Happiness score6.576GDP per capita1.998<br>Social Support0.98Healthy life expectancy0.633<br>Life Choice Freedom0.702Generosity0.204Corruption Perception0.25\",\"Saudi Arabia<br>Happiness score6.523GDP per capita1.87<br>Social Support1.092Healthy life expectancy0.577<br>Life Choice Freedom0.651Generosity0.078Corruption Perception0.18\",\"Taiwan Province of China<br>Happiness score6.512GDP per capita1.897<br>Social Support1.095Healthy life expectancy0.733<br>Life Choice Freedom0.542Generosity0.075Corruption Perception0.168\",\"Singapore<br>Happiness score6.48GDP per capita2.149<br>Social Support1.127Healthy life expectancy0.851<br>Life Choice Freedom0.672Generosity0.163Corruption Perception0.587\",\"Romania<br>Happiness score6.477GDP per capita1.719<br>Social Support1.006Healthy life expectancy0.655<br>Life Choice Freedom0.605Generosity0.039Corruption Perception0.006\",\"Spain<br>Happiness score6.476GDP per capita1.808<br>Social Support1.211Healthy life expectancy0.808<br>Life Choice Freedom0.505Generosity0.101Corruption Perception0.149\",\"Uruguay<br>Happiness score6.474GDP per capita1.615<br>Social Support1.18Healthy life expectancy0.672<br>Life Choice Freedom0.665Generosity0.103Corruption Perception0.265\",\"Italy<br>Happiness score6.467GDP per capita1.834<br>Social Support1.052Healthy life expectancy0.801<br>Life Choice Freedom0.412Generosity0.085Corruption Perception0.059\",\"Kosovo<br>Happiness score6.455GDP per capita1.362<br>Social Support0.949Healthy life expectancy0.569<br>Life Choice Freedom0.599Generosity0.309Corruption Perception0.035\",\"Malta<br>Happiness score6.447GDP per capita1.838<br>Social Support1.169Healthy life expectancy0.789<br>Life Choice Freedom0.679Generosity0.174Corruption Perception0.166\",\"Lithuania<br>Happiness score6.446GDP per capita1.804<br>Social Support1.204Healthy life expectancy0.659<br>Life Choice Freedom0.496Generosity0.053Corruption Perception0.077\",\"Slovakia<br>Happiness score6.391GDP per capita1.736<br>Social Support1.232Healthy life expectancy0.707<br>Life Choice Freedom0.479Generosity0.118Corruption Perception0.025\",\"Estonia<br>Happiness score6.341GDP per capita1.793<br>Social Support1.232Healthy life expectancy0.728<br>Life Choice Freedom0.689Generosity0.123Corruption Perception0.333\",\"Panama<br>Happiness score6.309GDP per capita1.715<br>Social Support1.107Healthy life expectancy0.709<br>Life Choice Freedom0.592Generosity0.049Corruption Perception0.051\",\"Brazil<br>Happiness score6.293GDP per capita1.462<br>Social Support1.044Healthy life expectancy0.615<br>Life Choice Freedom0.546Generosity0.131Corruption Perception0.134\",\"Guatemala*<br>Happiness score6.262GDP per capita1.274<br>Social Support0.831Healthy life expectancy0.522<br>Life Choice Freedom0.662Generosity0.112Corruption Perception0.115\",\"Kazakhstan<br>Happiness score6.234GDP per capita1.668<br>Social Support1.22Healthy life expectancy0.611<br>Life Choice Freedom0.584Generosity0.134Corruption Perception0.157\",\"Cyprus<br>Happiness score6.221GDP per capita1.815<br>Social Support0.909Healthy life expectancy0.819<br>Life Choice Freedom0.448Generosity0.123Corruption Perception0.062\",\"Latvia<br>Happiness score6.18GDP per capita1.732<br>Social Support1.221Healthy life expectancy0.637<br>Life Choice Freedom0.502Generosity0.075Corruption Perception0.09\",\"Serbia<br>Happiness score6.178GDP per capita1.55<br>Social Support1.086Healthy life expectancy0.658<br>Life Choice Freedom0.546Generosity0.219Corruption Perception0.088\",\"Chile<br>Happiness score6.172GDP per capita1.651<br>Social Support1.08Healthy life expectancy0.748<br>Life Choice Freedom0.46Generosity0.124Corruption Perception0.069\",\"Nicaragua<br>Happiness score6.165GDP per capita1.105<br>Social Support1.029Healthy life expectancy0.617<br>Life Choice Freedom0.617Generosity0.168Corruption Perception0.212\",\"Mexico<br>Happiness score6.128GDP per capita1.552<br>Social Support0.886Healthy life expectancy0.623<br>Life Choice Freedom0.621Generosity0.092Corruption Perception0.115\",\"Croatia<br>Happiness score6.125GDP per capita1.705<br>Social Support1.183Healthy life expectancy0.709<br>Life Choice Freedom0.535Generosity0.109Corruption Perception0.0\",\"Poland<br>Happiness score6.123GDP per capita1.758<br>Social Support1.174Healthy life expectancy0.712<br>Life Choice Freedom0.523Generosity0.124Corruption Perception0.14\",\"El Salvador<br>Happiness score6.12GDP per capita1.265<br>Social Support0.768Healthy life expectancy0.607<br>Life Choice Freedom0.666Generosity0.089Corruption Perception0.212\",\"Kuwait*<br>Happiness score6.106GDP per capita1.904<br>Social Support0.983Healthy life expectancy0.747<br>Life Choice Freedom0.617Generosity0.087Corruption Perception0.147\",\"Hungary<br>Happiness score6.086GDP per capita1.748<br>Social Support1.233Healthy life expectancy0.668<br>Life Choice Freedom0.485Generosity0.078Corruption Perception0.064\",\"Mauritius<br>Happiness score6.071GDP per capita1.591<br>Social Support1.116Healthy life expectancy0.568<br>Life Choice Freedom0.589Generosity0.131Corruption Perception0.107\",\"Uzbekistan<br>Happiness score6.063GDP per capita1.219<br>Social Support1.092Healthy life expectancy0.6<br>Life Choice Freedom0.716Generosity0.283Corruption Perception0.24\",\"Japan<br>Happiness score6.039GDP per capita1.835<br>Social Support1.089Healthy life expectancy0.866<br>Life Choice Freedom0.537Generosity0.007Corruption Perception0.218\",\"Honduras<br>Happiness score6.022GDP per capita1.111<br>Social Support0.885Healthy life expectancy0.555<br>Life Choice Freedom0.582Generosity0.202Corruption Perception0.076\",\"Portugal<br>Happiness score6.016GDP per capita1.76<br>Social Support1.078Healthy life expectancy0.777<br>Life Choice Freedom0.655Generosity0.016Corruption Perception0.039\",\"Argentina<br>Happiness score5.967GDP per capita1.592<br>Social Support1.102Healthy life expectancy0.662<br>Life Choice Freedom0.555Generosity0.081Corruption Perception0.085\",\"Greece<br>Happiness score5.948GDP per capita1.703<br>Social Support0.98Healthy life expectancy0.774<br>Life Choice Freedom0.249Generosity0.015Corruption Perception0.108\",\"South Korea<br>Happiness score5.935GDP per capita1.851<br>Social Support0.886Healthy life expectancy0.841<br>Life Choice Freedom0.414Generosity0.111Corruption Perception0.176\",\"Philippines<br>Happiness score5.904GDP per capita1.268<br>Social Support0.912Healthy life expectancy0.514<br>Life Choice Freedom0.678Generosity0.107Corruption Perception0.142\",\"Thailand<br>Happiness score5.891GDP per capita1.535<br>Social Support1.096Healthy life expectancy0.697<br>Life Choice Freedom0.617Generosity0.321Corruption Perception0.026\",\"Moldova<br>Happiness score5.857GDP per capita1.417<br>Social Support1.008Healthy life expectancy0.597<br>Life Choice Freedom0.561Generosity0.102Corruption Perception0.028\",\"Jamaica<br>Happiness score5.85GDP per capita1.296<br>Social Support1.045Healthy life expectancy0.646<br>Life Choice Freedom0.567Generosity0.08Corruption Perception0.053\",\"Kyrgyzstan<br>Happiness score5.828GDP per capita1.069<br>Social Support1.109Healthy life expectancy0.638<br>Life Choice Freedom0.693Generosity0.208Corruption Perception0.025\",\"Belarus*<br>Happiness score5.821GDP per capita1.562<br>Social Support1.157Healthy life expectancy0.629<br>Life Choice Freedom0.342Generosity0.04Corruption Perception0.282\",\"Colombia<br>Happiness score5.781GDP per capita1.452<br>Social Support0.929Healthy life expectancy0.72<br>Life Choice Freedom0.545Generosity0.087Corruption Perception0.077\",\"Bosnia and Herzegovina<br>Happiness score5.768GDP per capita1.468<br>Social Support1.068Healthy life expectancy0.665<br>Life Choice Freedom0.448Generosity0.244Corruption Perception0.006\",\"Mongolia<br>Happiness score5.761GDP per capita1.393<br>Social Support1.197Healthy life expectancy0.467<br>Life Choice Freedom0.398Generosity0.247Corruption Perception0.059\",\"Dominican Republic<br>Happiness score5.737GDP per capita1.538<br>Social Support1.003Healthy life expectancy0.577<br>Life Choice Freedom0.606Generosity0.084Corruption Perception0.179\",\"Malaysia<br>Happiness score5.711GDP per capita1.689<br>Social Support0.938Healthy life expectancy0.62<br>Life Choice Freedom0.654Generosity0.213Corruption Perception0.126\",\"Bolivia<br>Happiness score5.6GDP per capita1.256<br>Social Support0.88Healthy life expectancy0.555<br>Life Choice Freedom0.627Generosity0.112Corruption Perception0.064\",\"China<br>Happiness score5.585GDP per capita1.508<br>Social Support0.958Healthy life expectancy0.705<br>Life Choice Freedom0.656Generosity0.099Corruption Perception0.142\",\"Paraguay<br>Happiness score5.578GDP per capita1.409<br>Social Support1.13Healthy life expectancy0.624<br>Life Choice Freedom0.629Generosity0.171Corruption Perception0.059\",\"Peru<br>Happiness score5.559GDP per capita1.397<br>Social Support0.865Healthy life expectancy0.735<br>Life Choice Freedom0.545Generosity0.09Corruption Perception0.037\",\"Montenegro<br>Happiness score5.547GDP per capita1.573<br>Social Support1.023Healthy life expectancy0.659<br>Life Choice Freedom0.46Generosity0.135Corruption Perception0.077\",\"Ecuador<br>Happiness score5.533GDP per capita1.352<br>Social Support0.879Healthy life expectancy0.708<br>Life Choice Freedom0.565Generosity0.08Corruption Perception0.083\",\"Vietnam<br>Happiness score5.485GDP per capita1.252<br>Social Support0.932Healthy life expectancy0.611<br>Life Choice Freedom0.707Generosity0.143Corruption Perception0.105\",\"Turkmenistan*<br>Happiness score5.474GDP per capita1.484<br>Social Support1.319Healthy life expectancy0.516<br>Life Choice Freedom0.649Generosity0.314Corruption Perception0.032\",\"North Cyprus*<br>Happiness score5.467GDP per capita1.815<br>Social Support0.888Healthy life expectancy0.819<br>Life Choice Freedom0.523Generosity0.13Corruption Perception0.213\",\"Russia<br>Happiness score5.459GDP per capita1.685<br>Social Support1.095Healthy life expectancy0.586<br>Life Choice Freedom0.401Generosity0.117Corruption Perception0.08\",\"Hong Kong S.A.R. of China<br>Happiness score5.425GDP per capita1.957<br>Social Support0.954Healthy life expectancy0.942<br>Life Choice Freedom0.4Generosity0.147Corruption Perception0.383\",\"Armenia<br>Happiness score5.399GDP per capita1.434<br>Social Support0.82Healthy life expectancy0.668<br>Life Choice Freedom0.558Generosity0.054Corruption Perception0.21\",\"Tajikistan<br>Happiness score5.377GDP per capita0.966<br>Social Support1.005Healthy life expectancy0.518<br>Life Choice Freedom0.572Generosity0.118Corruption Perception0.304\",\"Nepal<br>Happiness score5.377GDP per capita0.984<br>Social Support0.784Healthy life expectancy0.499<br>Life Choice Freedom0.519Generosity0.237Corruption Perception0.13\",\"Bulgaria<br>Happiness score5.371GDP per capita1.625<br>Social Support1.163Healthy life expectancy0.64<br>Life Choice Freedom0.563Generosity0.123Corruption Perception0.021\",\"Libya*<br>Happiness score5.33GDP per capita1.476<br>Social Support0.943Healthy life expectancy0.606<br>Life Choice Freedom0.477Generosity0.106Corruption Perception0.179\",\"Indonesia<br>Happiness score5.24GDP per capita1.382<br>Social Support0.883Healthy life expectancy0.539<br>Life Choice Freedom0.62Generosity0.468Corruption Perception0.047\",\"Ivory Coast<br>Happiness score5.235GDP per capita1.094<br>Social Support0.442Healthy life expectancy0.322<br>Life Choice Freedom0.451Generosity0.149Corruption Perception0.124\",\"North Macedonia<br>Happiness score5.199GDP per capita1.505<br>Social Support0.863Healthy life expectancy0.637<br>Life Choice Freedom0.488Generosity0.215Corruption Perception0.031\",\"Albania<br>Happiness score5.199GDP per capita1.439<br>Social Support0.646Healthy life expectancy0.719<br>Life Choice Freedom0.511Generosity0.138Corruption Perception0.028\",\"South Africa<br>Happiness score5.194GDP per capita1.425<br>Social Support1.088Healthy life expectancy0.361<br>Life Choice Freedom0.442Generosity0.089Corruption Perception0.046\",\"Azerbaijan*<br>Happiness score5.173GDP per capita1.458<br>Social Support1.093Healthy life expectancy0.56<br>Life Choice Freedom0.601Generosity0.023Corruption Perception0.341\",\"Gambia*<br>Happiness score5.164GDP per capita0.785<br>Social Support0.621Healthy life expectancy0.369<br>Life Choice Freedom0.367Generosity0.388Corruption Perception0.103\",\"Bangladesh<br>Happiness score5.155GDP per capita1.06<br>Social Support0.614Healthy life expectancy0.581<br>Life Choice Freedom0.622Generosity0.125Corruption Perception0.187\",\"Laos<br>Happiness score5.14GDP per capita1.239<br>Social Support0.654Healthy life expectancy0.479<br>Life Choice Freedom0.679Generosity0.197Corruption Perception0.184\",\"Algeria<br>Happiness score5.122GDP per capita1.363<br>Social Support0.97Healthy life expectancy0.643<br>Life Choice Freedom0.146Generosity0.106Corruption Perception0.15\",\"Liberia*<br>Happiness score5.122GDP per capita0.636<br>Social Support0.67Healthy life expectancy0.309<br>Life Choice Freedom0.405Generosity0.178Corruption Perception0.08\",\"Ukraine<br>Happiness score5.084GDP per capita1.411<br>Social Support1.081Healthy life expectancy0.583<br>Life Choice Freedom0.473Generosity0.188Corruption Perception0.017\",\"Congo<br>Happiness score5.075GDP per capita0.95<br>Social Support0.405Healthy life expectancy0.355<br>Life Choice Freedom0.431Generosity0.13Corruption Perception0.146\",\"Morocco<br>Happiness score5.06GDP per capita1.208<br>Social Support0.268Healthy life expectancy0.565<br>Life Choice Freedom0.492Generosity0.02Corruption Perception0.102\",\"Mozambique<br>Happiness score5.048GDP per capita0.578<br>Social Support0.66Healthy life expectancy0.191<br>Life Choice Freedom0.593Generosity0.185Corruption Perception0.2\",\"Cameroon<br>Happiness score5.048GDP per capita0.968<br>Social Support0.672Healthy life expectancy0.317<br>Life Choice Freedom0.397Generosity0.152Corruption Perception0.074\",\"Senegal<br>Happiness score5.046GDP per capita0.933<br>Social Support0.53Healthy life expectancy0.447<br>Life Choice Freedom0.494Generosity0.143Corruption Perception0.081\",\"Niger*<br>Happiness score5.003GDP per capita0.57<br>Social Support0.56Healthy life expectancy0.326<br>Life Choice Freedom0.571Generosity0.165Corruption Perception0.145\",\"Georgia<br>Happiness score4.973GDP per capita1.467<br>Social Support0.612Healthy life expectancy0.595<br>Life Choice Freedom0.508Generosity0.0Corruption Perception0.208\",\"Gabon<br>Happiness score4.958GDP per capita1.459<br>Social Support0.738Healthy life expectancy0.396<br>Life Choice Freedom0.343Generosity0.032Corruption Perception0.099\",\"Iraq<br>Happiness score4.941GDP per capita1.289<br>Social Support0.682Healthy life expectancy0.554<br>Life Choice Freedom0.328Generosity0.147Corruption Perception0.046\",\"Venezuela<br>Happiness score4.925GDP per capita0.0<br>Social Support0.968Healthy life expectancy0.578<br>Life Choice Freedom0.283Generosity0.225Corruption Perception0.082\",\"Guinea<br>Happiness score4.891GDP per capita0.848<br>Social Support0.566Healthy life expectancy0.275<br>Life Choice Freedom0.334Generosity0.214Corruption Perception0.116\",\"Iran<br>Happiness score4.888GDP per capita1.41<br>Social Support0.741Healthy life expectancy0.642<br>Life Choice Freedom0.281Generosity0.241Corruption Perception0.146\",\"Ghana<br>Happiness score4.872GDP per capita1.112<br>Social Support0.595Healthy life expectancy0.409<br>Life Choice Freedom0.5Generosity0.23Corruption Perception0.056\",\"Turkey<br>Happiness score4.744GDP per capita1.707<br>Social Support0.865Healthy life expectancy0.702<br>Life Choice Freedom0.209Generosity0.087Corruption Perception0.115\",\"Burkina Faso<br>Happiness score4.67GDP per capita0.779<br>Social Support0.565Healthy life expectancy0.32<br>Life Choice Freedom0.382Generosity0.186Corruption Perception0.126\",\"Cambodia<br>Happiness score4.64GDP per capita1.019<br>Social Support0.732Healthy life expectancy0.505<br>Life Choice Freedom0.74Generosity0.166Corruption Perception0.068\",\"Benin<br>Happiness score4.623GDP per capita0.932<br>Social Support0.064Healthy life expectancy0.335<br>Life Choice Freedom0.479Generosity0.127Corruption Perception0.23\",\"Comoros*<br>Happiness score4.609GDP per capita0.899<br>Social Support0.476Healthy life expectancy0.424<br>Life Choice Freedom0.185Generosity0.195Corruption Perception0.125\",\"Uganda<br>Happiness score4.603GDP per capita0.777<br>Social Support0.875Healthy life expectancy0.418<br>Life Choice Freedom0.402Generosity0.222Corruption Perception0.066\",\"Nigeria<br>Happiness score4.552GDP per capita1.079<br>Social Support0.732Healthy life expectancy0.3<br>Life Choice Freedom0.444Generosity0.175Corruption Perception0.038\",\"Kenya<br>Happiness score4.543GDP per capita1.032<br>Social Support0.605Healthy life expectancy0.401<br>Life Choice Freedom0.44Generosity0.322Corruption Perception0.082\",\"Tunisia<br>Happiness score4.516GDP per capita1.35<br>Social Support0.596Healthy life expectancy0.656<br>Life Choice Freedom0.316Generosity0.029Corruption Perception0.029\",\"Pakistan<br>Happiness score4.516GDP per capita1.049<br>Social Support0.413Healthy life expectancy0.374<br>Life Choice Freedom0.448Generosity0.181Corruption Perception0.112\",\"Palestinian Territories*<br>Happiness score4.483GDP per capita1.148<br>Social Support0.957Healthy life expectancy0.521<br>Life Choice Freedom0.336Generosity0.073Corruption Perception0.079\",\"Mali<br>Happiness score4.479GDP per capita0.792<br>Social Support0.483Healthy life expectancy0.311<br>Life Choice Freedom0.35Generosity0.128Corruption Perception0.042\",\"Namibia<br>Happiness score4.459GDP per capita1.292<br>Social Support0.877Healthy life expectancy0.354<br>Life Choice Freedom0.384Generosity0.067Corruption Perception0.071\",\"Eswatini, Kingdom of*<br>Happiness score4.396GDP per capita1.274<br>Social Support0.786Healthy life expectancy0.197<br>Life Choice Freedom0.259Generosity0.038Corruption Perception0.154\",\"Myanmar<br>Happiness score4.394GDP per capita1.038<br>Social Support0.829Healthy life expectancy0.491<br>Life Choice Freedom0.513Generosity0.452Corruption Perception0.194\",\"Sri Lanka<br>Happiness score4.362GDP per capita1.415<br>Social Support0.934Healthy life expectancy0.66<br>Life Choice Freedom0.529Generosity0.15Corruption Perception0.079\",\"Madagascar*<br>Happiness score4.339GDP per capita0.67<br>Social Support0.645Healthy life expectancy0.378<br>Life Choice Freedom0.202Generosity0.143Corruption Perception0.154\",\"Egypt<br>Happiness score4.288GDP per capita1.388<br>Social Support0.732Healthy life expectancy0.548<br>Life Choice Freedom0.469Generosity0.041Corruption Perception0.254\",\"Chad*<br>Happiness score4.251GDP per capita0.662<br>Social Support0.506Healthy life expectancy0.225<br>Life Choice Freedom0.18Generosity0.182Corruption Perception0.077\",\"Ethiopia<br>Happiness score4.241GDP per capita0.788<br>Social Support0.809Healthy life expectancy0.457<br>Life Choice Freedom0.472Generosity0.205Corruption Perception0.136\",\"Yemen*<br>Happiness score4.197GDP per capita0.691<br>Social Support1.043Healthy life expectancy0.384<br>Life Choice Freedom0.33Generosity0.09Corruption Perception0.098\",\"Mauritania*<br>Happiness score4.153GDP per capita1.1<br>Social Support0.865Healthy life expectancy0.45<br>Life Choice Freedom0.304Generosity0.088Corruption Perception0.138\",\"Jordan<br>Happiness score4.152GDP per capita1.324<br>Social Support0.724Healthy life expectancy0.675<br>Life Choice Freedom0.476Generosity0.058Corruption Perception0.2\",\"Togo<br>Happiness score4.112GDP per capita0.771<br>Social Support0.322Healthy life expectancy0.36<br>Life Choice Freedom0.292Generosity0.174Corruption Perception0.132\",\"India<br>Happiness score3.777GDP per capita1.167<br>Social Support0.376Healthy life expectancy0.471<br>Life Choice Freedom0.647Generosity0.198Corruption Perception0.123\",\"Zambia<br>Happiness score3.76GDP per capita0.93<br>Social Support0.577Healthy life expectancy0.306<br>Life Choice Freedom0.525Generosity0.203Corruption Perception0.083\",\"Malawi<br>Happiness score3.75GDP per capita0.648<br>Social Support0.279Healthy life expectancy0.388<br>Life Choice Freedom0.477Generosity0.14Corruption Perception0.157\",\"Tanzania<br>Happiness score3.702GDP per capita0.848<br>Social Support0.597Healthy life expectancy0.425<br>Life Choice Freedom0.578Generosity0.248Corruption Perception0.27\",\"Sierra Leone<br>Happiness score3.574GDP per capita0.686<br>Social Support0.416Healthy life expectancy0.273<br>Life Choice Freedom0.387Generosity0.202Corruption Perception0.055\",\"Lesotho*<br>Happiness score3.512GDP per capita0.839<br>Social Support0.848Healthy life expectancy0.0<br>Life Choice Freedom0.419Generosity0.076Corruption Perception0.018\",\"Botswana*<br>Happiness score3.471GDP per capita1.503<br>Social Support0.815Healthy life expectancy0.28<br>Life Choice Freedom0.571Generosity0.012Corruption Perception0.102\",\"Rwanda*<br>Happiness score3.268GDP per capita0.785<br>Social Support0.133Healthy life expectancy0.462<br>Life Choice Freedom0.621Generosity0.187Corruption Perception0.544\",\"Zimbabwe<br>Happiness score2.995GDP per capita0.947<br>Social Support0.69Healthy life expectancy0.27<br>Life Choice Freedom0.329Generosity0.106Corruption Perception0.105\",\"Lebanon<br>Happiness score2.955GDP per capita1.392<br>Social Support0.498Healthy life expectancy0.631<br>Life Choice Freedom0.103Generosity0.082Corruption Perception0.034\",\"Afghanistan<br>Happiness score2.404GDP per capita0.758<br>Social Support0.0Healthy life expectancy0.289<br>Life Choice Freedom0.0Generosity0.089Corruption Perception0.005\"],\"z\":[1,2,3,4,5,6,7,8,9,10,11,12,13,14,15,16,17,18,19,20,21,22,23,24,25,26,27,28,29,30,31,32,33,34,35,36,37,38,39,40,41,42,43,44,45,46,47,48,49,50,51,52,53,54,55,56,57,58,59,60,61,62,63,64,65,66,67,68,69,70,71,72,73,74,75,76,77,78,79,80,81,82,83,84,85,86,87,88,89,90,91,92,93,94,95,96,97,98,99,100,101,102,103,104,105,106,107,108,109,110,111,112,113,114,115,116,117,118,119,120,121,122,123,124,125,126,127,128,129,130,131,132,133,134,135,136,137,138,139,140,141,142,143,144,145,146],\"type\":\"choropleth\"}],                        {\"geo\":{\"scope\":\"world\"},\"template\":{\"data\":{\"barpolar\":[{\"marker\":{\"line\":{\"color\":\"#E5ECF6\",\"width\":0.5},\"pattern\":{\"fillmode\":\"overlay\",\"size\":10,\"solidity\":0.2}},\"type\":\"barpolar\"}],\"bar\":[{\"error_x\":{\"color\":\"#2a3f5f\"},\"error_y\":{\"color\":\"#2a3f5f\"},\"marker\":{\"line\":{\"color\":\"#E5ECF6\",\"width\":0.5},\"pattern\":{\"fillmode\":\"overlay\",\"size\":10,\"solidity\":0.2}},\"type\":\"bar\"}],\"carpet\":[{\"aaxis\":{\"endlinecolor\":\"#2a3f5f\",\"gridcolor\":\"white\",\"linecolor\":\"white\",\"minorgridcolor\":\"white\",\"startlinecolor\":\"#2a3f5f\"},\"baxis\":{\"endlinecolor\":\"#2a3f5f\",\"gridcolor\":\"white\",\"linecolor\":\"white\",\"minorgridcolor\":\"white\",\"startlinecolor\":\"#2a3f5f\"},\"type\":\"carpet\"}],\"choropleth\":[{\"colorbar\":{\"outlinewidth\":0,\"ticks\":\"\"},\"type\":\"choropleth\"}],\"contourcarpet\":[{\"colorbar\":{\"outlinewidth\":0,\"ticks\":\"\"},\"type\":\"contourcarpet\"}],\"contour\":[{\"colorbar\":{\"outlinewidth\":0,\"ticks\":\"\"},\"colorscale\":[[0.0,\"#0d0887\"],[0.1111111111111111,\"#46039f\"],[0.2222222222222222,\"#7201a8\"],[0.3333333333333333,\"#9c179e\"],[0.4444444444444444,\"#bd3786\"],[0.5555555555555556,\"#d8576b\"],[0.6666666666666666,\"#ed7953\"],[0.7777777777777778,\"#fb9f3a\"],[0.8888888888888888,\"#fdca26\"],[1.0,\"#f0f921\"]],\"type\":\"contour\"}],\"heatmapgl\":[{\"colorbar\":{\"outlinewidth\":0,\"ticks\":\"\"},\"colorscale\":[[0.0,\"#0d0887\"],[0.1111111111111111,\"#46039f\"],[0.2222222222222222,\"#7201a8\"],[0.3333333333333333,\"#9c179e\"],[0.4444444444444444,\"#bd3786\"],[0.5555555555555556,\"#d8576b\"],[0.6666666666666666,\"#ed7953\"],[0.7777777777777778,\"#fb9f3a\"],[0.8888888888888888,\"#fdca26\"],[1.0,\"#f0f921\"]],\"type\":\"heatmapgl\"}],\"heatmap\":[{\"colorbar\":{\"outlinewidth\":0,\"ticks\":\"\"},\"colorscale\":[[0.0,\"#0d0887\"],[0.1111111111111111,\"#46039f\"],[0.2222222222222222,\"#7201a8\"],[0.3333333333333333,\"#9c179e\"],[0.4444444444444444,\"#bd3786\"],[0.5555555555555556,\"#d8576b\"],[0.6666666666666666,\"#ed7953\"],[0.7777777777777778,\"#fb9f3a\"],[0.8888888888888888,\"#fdca26\"],[1.0,\"#f0f921\"]],\"type\":\"heatmap\"}],\"histogram2dcontour\":[{\"colorbar\":{\"outlinewidth\":0,\"ticks\":\"\"},\"colorscale\":[[0.0,\"#0d0887\"],[0.1111111111111111,\"#46039f\"],[0.2222222222222222,\"#7201a8\"],[0.3333333333333333,\"#9c179e\"],[0.4444444444444444,\"#bd3786\"],[0.5555555555555556,\"#d8576b\"],[0.6666666666666666,\"#ed7953\"],[0.7777777777777778,\"#fb9f3a\"],[0.8888888888888888,\"#fdca26\"],[1.0,\"#f0f921\"]],\"type\":\"histogram2dcontour\"}],\"histogram2d\":[{\"colorbar\":{\"outlinewidth\":0,\"ticks\":\"\"},\"colorscale\":[[0.0,\"#0d0887\"],[0.1111111111111111,\"#46039f\"],[0.2222222222222222,\"#7201a8\"],[0.3333333333333333,\"#9c179e\"],[0.4444444444444444,\"#bd3786\"],[0.5555555555555556,\"#d8576b\"],[0.6666666666666666,\"#ed7953\"],[0.7777777777777778,\"#fb9f3a\"],[0.8888888888888888,\"#fdca26\"],[1.0,\"#f0f921\"]],\"type\":\"histogram2d\"}],\"histogram\":[{\"marker\":{\"pattern\":{\"fillmode\":\"overlay\",\"size\":10,\"solidity\":0.2}},\"type\":\"histogram\"}],\"mesh3d\":[{\"colorbar\":{\"outlinewidth\":0,\"ticks\":\"\"},\"type\":\"mesh3d\"}],\"parcoords\":[{\"line\":{\"colorbar\":{\"outlinewidth\":0,\"ticks\":\"\"}},\"type\":\"parcoords\"}],\"pie\":[{\"automargin\":true,\"type\":\"pie\"}],\"scatter3d\":[{\"line\":{\"colorbar\":{\"outlinewidth\":0,\"ticks\":\"\"}},\"marker\":{\"colorbar\":{\"outlinewidth\":0,\"ticks\":\"\"}},\"type\":\"scatter3d\"}],\"scattercarpet\":[{\"marker\":{\"colorbar\":{\"outlinewidth\":0,\"ticks\":\"\"}},\"type\":\"scattercarpet\"}],\"scattergeo\":[{\"marker\":{\"colorbar\":{\"outlinewidth\":0,\"ticks\":\"\"}},\"type\":\"scattergeo\"}],\"scattergl\":[{\"marker\":{\"colorbar\":{\"outlinewidth\":0,\"ticks\":\"\"}},\"type\":\"scattergl\"}],\"scattermapbox\":[{\"marker\":{\"colorbar\":{\"outlinewidth\":0,\"ticks\":\"\"}},\"type\":\"scattermapbox\"}],\"scatterpolargl\":[{\"marker\":{\"colorbar\":{\"outlinewidth\":0,\"ticks\":\"\"}},\"type\":\"scatterpolargl\"}],\"scatterpolar\":[{\"marker\":{\"colorbar\":{\"outlinewidth\":0,\"ticks\":\"\"}},\"type\":\"scatterpolar\"}],\"scatter\":[{\"marker\":{\"colorbar\":{\"outlinewidth\":0,\"ticks\":\"\"}},\"type\":\"scatter\"}],\"scatterternary\":[{\"marker\":{\"colorbar\":{\"outlinewidth\":0,\"ticks\":\"\"}},\"type\":\"scatterternary\"}],\"surface\":[{\"colorbar\":{\"outlinewidth\":0,\"ticks\":\"\"},\"colorscale\":[[0.0,\"#0d0887\"],[0.1111111111111111,\"#46039f\"],[0.2222222222222222,\"#7201a8\"],[0.3333333333333333,\"#9c179e\"],[0.4444444444444444,\"#bd3786\"],[0.5555555555555556,\"#d8576b\"],[0.6666666666666666,\"#ed7953\"],[0.7777777777777778,\"#fb9f3a\"],[0.8888888888888888,\"#fdca26\"],[1.0,\"#f0f921\"]],\"type\":\"surface\"}],\"table\":[{\"cells\":{\"fill\":{\"color\":\"#EBF0F8\"},\"line\":{\"color\":\"white\"}},\"header\":{\"fill\":{\"color\":\"#C8D4E3\"},\"line\":{\"color\":\"white\"}},\"type\":\"table\"}]},\"layout\":{\"annotationdefaults\":{\"arrowcolor\":\"#2a3f5f\",\"arrowhead\":0,\"arrowwidth\":1},\"autotypenumbers\":\"strict\",\"coloraxis\":{\"colorbar\":{\"outlinewidth\":0,\"ticks\":\"\"}},\"colorscale\":{\"diverging\":[[0,\"#8e0152\"],[0.1,\"#c51b7d\"],[0.2,\"#de77ae\"],[0.3,\"#f1b6da\"],[0.4,\"#fde0ef\"],[0.5,\"#f7f7f7\"],[0.6,\"#e6f5d0\"],[0.7,\"#b8e186\"],[0.8,\"#7fbc41\"],[0.9,\"#4d9221\"],[1,\"#276419\"]],\"sequential\":[[0.0,\"#0d0887\"],[0.1111111111111111,\"#46039f\"],[0.2222222222222222,\"#7201a8\"],[0.3333333333333333,\"#9c179e\"],[0.4444444444444444,\"#bd3786\"],[0.5555555555555556,\"#d8576b\"],[0.6666666666666666,\"#ed7953\"],[0.7777777777777778,\"#fb9f3a\"],[0.8888888888888888,\"#fdca26\"],[1.0,\"#f0f921\"]],\"sequentialminus\":[[0.0,\"#0d0887\"],[0.1111111111111111,\"#46039f\"],[0.2222222222222222,\"#7201a8\"],[0.3333333333333333,\"#9c179e\"],[0.4444444444444444,\"#bd3786\"],[0.5555555555555556,\"#d8576b\"],[0.6666666666666666,\"#ed7953\"],[0.7777777777777778,\"#fb9f3a\"],[0.8888888888888888,\"#fdca26\"],[1.0,\"#f0f921\"]]},\"colorway\":[\"#636efa\",\"#EF553B\",\"#00cc96\",\"#ab63fa\",\"#FFA15A\",\"#19d3f3\",\"#FF6692\",\"#B6E880\",\"#FF97FF\",\"#FECB52\"],\"font\":{\"color\":\"#2a3f5f\"},\"geo\":{\"bgcolor\":\"white\",\"lakecolor\":\"white\",\"landcolor\":\"#E5ECF6\",\"showlakes\":true,\"showland\":true,\"subunitcolor\":\"white\"},\"hoverlabel\":{\"align\":\"left\"},\"hovermode\":\"closest\",\"mapbox\":{\"style\":\"light\"},\"paper_bgcolor\":\"white\",\"plot_bgcolor\":\"#E5ECF6\",\"polar\":{\"angularaxis\":{\"gridcolor\":\"white\",\"linecolor\":\"white\",\"ticks\":\"\"},\"bgcolor\":\"#E5ECF6\",\"radialaxis\":{\"gridcolor\":\"white\",\"linecolor\":\"white\",\"ticks\":\"\"}},\"scene\":{\"xaxis\":{\"backgroundcolor\":\"#E5ECF6\",\"gridcolor\":\"white\",\"gridwidth\":2,\"linecolor\":\"white\",\"showbackground\":true,\"ticks\":\"\",\"zerolinecolor\":\"white\"},\"yaxis\":{\"backgroundcolor\":\"#E5ECF6\",\"gridcolor\":\"white\",\"gridwidth\":2,\"linecolor\":\"white\",\"showbackground\":true,\"ticks\":\"\",\"zerolinecolor\":\"white\"},\"zaxis\":{\"backgroundcolor\":\"#E5ECF6\",\"gridcolor\":\"white\",\"gridwidth\":2,\"linecolor\":\"white\",\"showbackground\":true,\"ticks\":\"\",\"zerolinecolor\":\"white\"}},\"shapedefaults\":{\"line\":{\"color\":\"#2a3f5f\"}},\"ternary\":{\"aaxis\":{\"gridcolor\":\"white\",\"linecolor\":\"white\",\"ticks\":\"\"},\"baxis\":{\"gridcolor\":\"white\",\"linecolor\":\"white\",\"ticks\":\"\"},\"bgcolor\":\"#E5ECF6\",\"caxis\":{\"gridcolor\":\"white\",\"linecolor\":\"white\",\"ticks\":\"\"}},\"title\":{\"x\":0.05},\"xaxis\":{\"automargin\":true,\"gridcolor\":\"white\",\"linecolor\":\"white\",\"ticks\":\"\",\"title\":{\"standoff\":15},\"zerolinecolor\":\"white\",\"zerolinewidth\":2},\"yaxis\":{\"automargin\":true,\"gridcolor\":\"white\",\"linecolor\":\"white\",\"ticks\":\"\",\"title\":{\"standoff\":15},\"zerolinecolor\":\"white\",\"zerolinewidth\":2}}},\"title\":{\"text\":\"Happiness Ranking of Each Country<br>(Hover for more average factor breakdown)\"}},                        {\"responsive\": true}                    ).then(function(){\n",
       "                            \n",
       "var gd = document.getElementById('8b8c94ee-2b35-4201-a198-cba6676bb319');\n",
       "var x = new MutationObserver(function (mutations, observer) {{\n",
       "        var display = window.getComputedStyle(gd).display;\n",
       "        if (!display || display === 'none') {{\n",
       "            console.log([gd, 'removed!']);\n",
       "            Plotly.purge(gd);\n",
       "            observer.disconnect();\n",
       "        }}\n",
       "}});\n",
       "\n",
       "// Listen for the removal of the full notebook cells\n",
       "var notebookContainer = gd.closest('#notebook-container');\n",
       "if (notebookContainer) {{\n",
       "    x.observe(notebookContainer, {childList: true});\n",
       "}}\n",
       "\n",
       "// Listen for the clearing of the current output cell\n",
       "var outputEl = gd.closest('.output');\n",
       "if (outputEl) {{\n",
       "    x.observe(outputEl, {childList: true});\n",
       "}}\n",
       "\n",
       "                        })                };                });            </script>        </div>"
      ]
     },
     "metadata": {},
     "output_type": "display_data"
    }
   ],
   "source": [
    "iplot(choromap)"
   ]
  },
  {
   "cell_type": "code",
   "execution_count": null,
   "id": "d1af19af",
   "metadata": {},
   "outputs": [],
   "source": []
  },
  {
   "cell_type": "code",
   "execution_count": null,
   "id": "95c48afa",
   "metadata": {},
   "outputs": [],
   "source": []
  },
  {
   "cell_type": "code",
   "execution_count": null,
   "id": "080c4e23",
   "metadata": {},
   "outputs": [],
   "source": []
  }
 ],
 "metadata": {
  "kernelspec": {
   "display_name": "Python 3 (ipykernel)",
   "language": "python",
   "name": "python3"
  },
  "language_info": {
   "codemirror_mode": {
    "name": "ipython",
    "version": 3
   },
   "file_extension": ".py",
   "mimetype": "text/x-python",
   "name": "python",
   "nbconvert_exporter": "python",
   "pygments_lexer": "ipython3",
   "version": "3.9.7"
  }
 },
 "nbformat": 4,
 "nbformat_minor": 5
}
